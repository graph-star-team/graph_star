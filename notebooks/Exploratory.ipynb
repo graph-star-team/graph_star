{
 "cells": [
  {
   "cell_type": "markdown",
   "metadata": {},
   "source": [
    "# Exploratory analysis"
   ]
  },
  {
   "cell_type": "markdown",
   "metadata": {},
   "source": [
    "## Looking at our data"
   ]
  },
  {
   "cell_type": "code",
   "execution_count": 1,
   "metadata": {},
   "outputs": [],
   "source": [
    "import torch\n",
    "from node2vec import Node2Vec\n",
    "from torch_geometric.data import Data\n",
    "from utils.gsn_argparse import str2bool, str2actication\n",
    "import torch_geometric.utils as gutils\n",
    "from torch_geometric.nn import GAE\n",
    "import trainer\n",
    "import utils.gsn_argparse as gap\n",
    "import numpy as np\n",
    "import pandas as pd\n",
    "import networkx as nx\n",
    "import matplotlib.pyplot as plt\n",
    "from sklearn.preprocessing import LabelEncoder"
   ]
  },
  {
   "cell_type": "markdown",
   "metadata": {},
   "source": [
    "## Label encoding"
   ]
  },
  {
   "cell_type": "code",
   "execution_count": 2,
   "metadata": {},
   "outputs": [],
   "source": [
    "# Read data and make dataframes\n",
    "name = ['entity', 'id']\n",
    "entity_id = pd.read_csv('./data/FB15k/entities.txt', sep='\\t', header=None, names=name, engine='python')\n",
    "all_entities = entity_id['entity'].values\n",
    "\n",
    "name = ['relation', 'id']\n",
    "relation_id = pd.read_csv('./data/FB15k/relations.txt', sep='\\t', header=None, names=name, engine='python')\n",
    "all_relations = relation_id['relation'].values\n",
    "\n",
    "# Read RDF Triples\n",
    "name = ['subject', 'object', 'relation']\n",
    "# concat all data \n",
    "train = pd.read_csv('./data/FB15k/train.txt', sep='\\t', header=None, names=name, engine='python')\n",
    "valid = pd.read_csv('./data/FB15k/valid.txt', sep='\\t', header=None, names=name, engine='python')\n",
    "test = pd.read_csv('./data/FB15k/test.txt', sep='\\t', header=None, names=name, engine='python')\n",
    "data = pd.concat([train, valid])\n",
    "data = pd.concat([data, test])"
   ]
  },
  {
   "cell_type": "code",
   "execution_count": 3,
   "metadata": {},
   "outputs": [],
   "source": [
    "data = pd.concat([train, valid])\n",
    "data = pd.concat([data, test])"
   ]
  },
  {
   "cell_type": "code",
   "execution_count": 4,
   "metadata": {},
   "outputs": [],
   "source": [
    "# building a relation tree\n",
    "rels = data['relation']\n",
    "rels = sorted(rels.values)"
   ]
  },
  {
   "cell_type": "code",
   "execution_count": 5,
   "metadata": {},
   "outputs": [
    {
     "data": {
      "text/plain": [
       "['/american_football/football_coach/coaching_history./american_football/football_historical_coach_position/position',\n",
       " '/american_football/football_coach/coaching_history./american_football/football_historical_coach_position/team',\n",
       " '/american_football/football_coach_position/coaches_holding_this_position./american_football/football_historical_coach_position/coach',\n",
       " '/american_football/football_coach_position/coaches_holding_this_position./american_football/football_historical_coach_position/team',\n",
       " '/american_football/football_coach_position/coaches_holding_this_position./american_football/football_historical_coach_position/team',\n",
       " '/american_football/football_coach_position/coaches_holding_this_position./american_football/football_historical_coach_position/team',\n",
       " '/american_football/football_coach_position/coaches_holding_this_position./american_football/football_historical_coach_position/team',\n",
       " '/american_football/football_coach_position/coaches_holding_this_position./american_football/football_historical_coach_position/team',\n",
       " '/american_football/football_coach_position/coaches_holding_this_position./american_football/football_historical_coach_position/team',\n",
       " '/american_football/football_coach_position/coaches_holding_this_position./american_football/football_historical_coach_position/team',\n",
       " '/american_football/football_coach_position/coaches_holding_this_position./american_football/football_historical_coach_position/team',\n",
       " '/american_football/football_coach_position/coaches_holding_this_position./american_football/football_historical_coach_position/team',\n",
       " '/american_football/football_coach_position/coaches_holding_this_position./american_football/football_historical_coach_position/team',\n",
       " '/american_football/football_coach_position/coaches_holding_this_position./american_football/football_historical_coach_position/team',\n",
       " '/american_football/football_coach_position/coaches_holding_this_position./american_football/football_historical_coach_position/team',\n",
       " '/american_football/football_coach_position/coaches_holding_this_position./american_football/football_historical_coach_position/team',\n",
       " '/american_football/football_coach_position/coaches_holding_this_position./american_football/football_historical_coach_position/team',\n",
       " '/american_football/football_coach_position/coaches_holding_this_position./american_football/football_historical_coach_position/team',\n",
       " '/american_football/football_coach_position/coaches_holding_this_position./american_football/football_historical_coach_position/team',\n",
       " '/american_football/football_coach_position/coaches_holding_this_position./american_football/football_historical_coach_position/team',\n",
       " '/american_football/football_coach_position/coaches_holding_this_position./american_football/football_historical_coach_position/team',\n",
       " '/american_football/football_coach_position/coaches_holding_this_position./american_football/football_historical_coach_position/team',\n",
       " '/american_football/football_coach_position/coaches_holding_this_position./american_football/football_historical_coach_position/team',\n",
       " '/american_football/football_coach_position/coaches_holding_this_position./american_football/football_historical_coach_position/team',\n",
       " '/american_football/football_coach_position/coaches_holding_this_position./american_football/football_historical_coach_position/team',\n",
       " '/american_football/football_coach_position/coaches_holding_this_position./american_football/football_historical_coach_position/team',\n",
       " '/american_football/football_coach_position/coaches_holding_this_position./american_football/football_historical_coach_position/team',\n",
       " '/american_football/football_coach_position/coaches_holding_this_position./american_football/football_historical_coach_position/team',\n",
       " '/american_football/football_coach_position/coaches_holding_this_position./american_football/football_historical_coach_position/team',\n",
       " '/american_football/football_coach_position/coaches_holding_this_position./american_football/football_historical_coach_position/team',\n",
       " '/american_football/football_coach_position/coaches_holding_this_position./american_football/football_historical_coach_position/team',\n",
       " '/american_football/football_coach_position/coaches_holding_this_position./american_football/football_historical_coach_position/team',\n",
       " '/american_football/football_coach_position/coaches_holding_this_position./american_football/football_historical_coach_position/team',\n",
       " '/american_football/football_coach_position/coaches_holding_this_position./american_football/football_historical_coach_position/team',\n",
       " '/american_football/football_coach_position/coaches_holding_this_position./american_football/football_historical_coach_position/team',\n",
       " '/american_football/football_coach_position/coaches_holding_this_position./american_football/football_historical_coach_position/team',\n",
       " '/american_football/football_coach_position/coaches_holding_this_position./american_football/football_historical_coach_position/team',\n",
       " '/american_football/football_coach_position/coaches_holding_this_position./american_football/football_historical_coach_position/team',\n",
       " '/american_football/football_coach_position/coaches_holding_this_position./american_football/football_historical_coach_position/team',\n",
       " '/american_football/football_coach_position/coaches_holding_this_position./american_football/football_historical_coach_position/team',\n",
       " '/american_football/football_coach_position/coaches_holding_this_position./american_football/football_historical_coach_position/team',\n",
       " '/american_football/football_coach_position/coaches_holding_this_position./american_football/football_historical_coach_position/team',\n",
       " '/american_football/football_coach_position/coaches_holding_this_position./american_football/football_historical_coach_position/team',\n",
       " '/american_football/football_coach_position/coaches_holding_this_position./american_football/football_historical_coach_position/team',\n",
       " '/american_football/football_player/current_team./american_football/football_roster_position/position',\n",
       " '/american_football/football_player/current_team./american_football/football_roster_position/team',\n",
       " '/american_football/football_player/current_team./sports/sports_team_roster/team',\n",
       " '/american_football/football_player/former_teams./american_football/football_historical_roster_position/position_s',\n",
       " '/american_football/football_player/former_teams./american_football/football_historical_roster_position/position_s',\n",
       " '/american_football/football_player/former_teams./american_football/football_historical_roster_position/position_s',\n",
       " '/american_football/football_player/former_teams./american_football/football_historical_roster_position/position_s',\n",
       " '/american_football/football_player/former_teams./american_football/football_historical_roster_position/position_s',\n",
       " '/american_football/football_player/former_teams./american_football/football_historical_roster_position/position_s',\n",
       " '/american_football/football_player/former_teams./american_football/football_historical_roster_position/position_s',\n",
       " '/american_football/football_player/former_teams./american_football/football_historical_roster_position/position_s',\n",
       " '/american_football/football_player/former_teams./american_football/football_historical_roster_position/position_s',\n",
       " '/american_football/football_player/former_teams./american_football/football_historical_roster_position/position_s',\n",
       " '/american_football/football_player/former_teams./american_football/football_historical_roster_position/position_s',\n",
       " '/american_football/football_player/former_teams./american_football/football_historical_roster_position/position_s',\n",
       " '/american_football/football_player/former_teams./american_football/football_historical_roster_position/position_s',\n",
       " '/american_football/football_player/former_teams./american_football/football_historical_roster_position/position_s',\n",
       " '/american_football/football_player/former_teams./american_football/football_historical_roster_position/position_s',\n",
       " '/american_football/football_player/former_teams./american_football/football_historical_roster_position/position_s',\n",
       " '/american_football/football_player/former_teams./american_football/football_historical_roster_position/position_s',\n",
       " '/american_football/football_player/former_teams./american_football/football_historical_roster_position/position_s',\n",
       " '/american_football/football_player/former_teams./american_football/football_historical_roster_position/position_s',\n",
       " '/american_football/football_player/former_teams./american_football/football_historical_roster_position/team',\n",
       " '/american_football/football_player/former_teams./american_football/football_historical_roster_position/team',\n",
       " '/american_football/football_player/former_teams./american_football/football_historical_roster_position/team',\n",
       " '/american_football/football_player/former_teams./american_football/football_historical_roster_position/team',\n",
       " '/american_football/football_player/former_teams./american_football/football_historical_roster_position/team',\n",
       " '/american_football/football_player/former_teams./american_football/football_historical_roster_position/team',\n",
       " '/american_football/football_player/former_teams./american_football/football_historical_roster_position/team',\n",
       " '/american_football/football_player/former_teams./american_football/football_historical_roster_position/team',\n",
       " '/american_football/football_player/former_teams./american_football/football_historical_roster_position/team',\n",
       " '/american_football/football_player/former_teams./american_football/football_historical_roster_position/team',\n",
       " '/american_football/football_player/former_teams./american_football/football_historical_roster_position/team',\n",
       " '/american_football/football_player/former_teams./american_football/football_historical_roster_position/team',\n",
       " '/american_football/football_player/former_teams./american_football/football_historical_roster_position/team',\n",
       " '/american_football/football_player/former_teams./american_football/football_historical_roster_position/team',\n",
       " '/american_football/football_player/former_teams./american_football/football_historical_roster_position/team',\n",
       " '/american_football/football_player/former_teams./american_football/football_historical_roster_position/team',\n",
       " '/american_football/football_player/former_teams./american_football/football_historical_roster_position/team',\n",
       " '/american_football/football_player/former_teams./american_football/football_historical_roster_position/team',\n",
       " '/american_football/football_player/former_teams./american_football/football_historical_roster_position/team',\n",
       " '/american_football/football_player/former_teams./american_football/football_historical_roster_position/team',\n",
       " '/american_football/football_player/former_teams./american_football/football_historical_roster_position/team',\n",
       " '/american_football/football_player/former_teams./american_football/football_historical_roster_position/team',\n",
       " '/american_football/football_player/former_teams./american_football/football_historical_roster_position/team',\n",
       " '/american_football/football_player/former_teams./american_football/football_historical_roster_position/team',\n",
       " '/american_football/football_player/former_teams./american_football/football_historical_roster_position/team',\n",
       " '/american_football/football_player/former_teams./american_football/football_historical_roster_position/team',\n",
       " '/american_football/football_player/former_teams./american_football/football_historical_roster_position/team',\n",
       " '/american_football/football_player/former_teams./american_football/football_historical_roster_position/team',\n",
       " '/american_football/football_player/former_teams./american_football/football_historical_roster_position/team',\n",
       " '/american_football/football_player/former_teams./american_football/football_historical_roster_position/team',\n",
       " '/american_football/football_player/former_teams./american_football/football_historical_roster_position/team',\n",
       " '/american_football/football_player/former_teams./american_football/football_historical_roster_position/team',\n",
       " '/american_football/football_player/former_teams./american_football/football_historical_roster_position/team',\n",
       " '/american_football/football_player/former_teams./american_football/football_historical_roster_position/team',\n",
       " '/american_football/football_player/former_teams./american_football/football_historical_roster_position/team',\n",
       " '/american_football/football_player/former_teams./american_football/football_historical_roster_position/team',\n",
       " '/american_football/football_player/former_teams./american_football/football_historical_roster_position/team',\n",
       " '/american_football/football_player/former_teams./american_football/football_historical_roster_position/team',\n",
       " '/american_football/football_player/former_teams./american_football/football_historical_roster_position/team',\n",
       " '/american_football/football_player/former_teams./american_football/football_historical_roster_position/team',\n",
       " '/american_football/football_player/former_teams./american_football/football_historical_roster_position/team',\n",
       " '/american_football/football_player/former_teams./american_football/football_historical_roster_position/team',\n",
       " '/american_football/football_player/former_teams./american_football/football_historical_roster_position/team',\n",
       " '/american_football/football_player/former_teams./american_football/football_historical_roster_position/team',\n",
       " '/american_football/football_player/former_teams./american_football/football_historical_roster_position/team',\n",
       " '/american_football/football_player/former_teams./american_football/football_historical_roster_position/team',\n",
       " '/american_football/football_player/former_teams./american_football/football_historical_roster_position/team',\n",
       " '/american_football/football_player/former_teams./american_football/football_historical_roster_position/team',\n",
       " '/american_football/football_player/former_teams./american_football/football_historical_roster_position/team',\n",
       " '/american_football/football_player/former_teams./american_football/football_historical_roster_position/team',\n",
       " '/american_football/football_player/former_teams./american_football/football_historical_roster_position/team',\n",
       " '/american_football/football_player/former_teams./sports/sports_team_roster/position',\n",
       " '/american_football/football_player/former_teams./sports/sports_team_roster/position',\n",
       " '/american_football/football_player/former_teams./sports/sports_team_roster/position',\n",
       " '/american_football/football_player/former_teams./sports/sports_team_roster/position',\n",
       " '/american_football/football_player/former_teams./sports/sports_team_roster/position',\n",
       " '/american_football/football_player/former_teams./sports/sports_team_roster/position',\n",
       " '/american_football/football_player/former_teams./sports/sports_team_roster/position',\n",
       " '/american_football/football_player/former_teams./sports/sports_team_roster/position',\n",
       " '/american_football/football_player/former_teams./sports/sports_team_roster/position',\n",
       " '/american_football/football_player/former_teams./sports/sports_team_roster/position',\n",
       " '/american_football/football_player/former_teams./sports/sports_team_roster/position',\n",
       " '/american_football/football_player/former_teams./sports/sports_team_roster/position',\n",
       " '/american_football/football_player/former_teams./sports/sports_team_roster/position',\n",
       " '/american_football/football_player/former_teams./sports/sports_team_roster/position',\n",
       " '/american_football/football_player/former_teams./sports/sports_team_roster/position',\n",
       " '/american_football/football_player/former_teams./sports/sports_team_roster/position',\n",
       " '/american_football/football_player/former_teams./sports/sports_team_roster/position',\n",
       " '/american_football/football_player/former_teams./sports/sports_team_roster/position',\n",
       " '/american_football/football_player/former_teams./sports/sports_team_roster/position',\n",
       " '/american_football/football_player/former_teams./sports/sports_team_roster/team',\n",
       " '/american_football/football_player/former_teams./sports/sports_team_roster/team',\n",
       " '/american_football/football_player/former_teams./sports/sports_team_roster/team',\n",
       " '/american_football/football_player/former_teams./sports/sports_team_roster/team',\n",
       " '/american_football/football_player/former_teams./sports/sports_team_roster/team',\n",
       " '/american_football/football_player/former_teams./sports/sports_team_roster/team',\n",
       " '/american_football/football_player/former_teams./sports/sports_team_roster/team',\n",
       " '/american_football/football_player/former_teams./sports/sports_team_roster/team',\n",
       " '/american_football/football_player/former_teams./sports/sports_team_roster/team',\n",
       " '/american_football/football_player/former_teams./sports/sports_team_roster/team',\n",
       " '/american_football/football_player/former_teams./sports/sports_team_roster/team',\n",
       " '/american_football/football_player/former_teams./sports/sports_team_roster/team',\n",
       " '/american_football/football_player/former_teams./sports/sports_team_roster/team',\n",
       " '/american_football/football_player/former_teams./sports/sports_team_roster/team',\n",
       " '/american_football/football_player/former_teams./sports/sports_team_roster/team',\n",
       " '/american_football/football_player/former_teams./sports/sports_team_roster/team',\n",
       " '/american_football/football_player/former_teams./sports/sports_team_roster/team',\n",
       " '/american_football/football_player/former_teams./sports/sports_team_roster/team',\n",
       " '/american_football/football_player/former_teams./sports/sports_team_roster/team',\n",
       " '/american_football/football_player/former_teams./sports/sports_team_roster/team',\n",
       " '/american_football/football_player/former_teams./sports/sports_team_roster/team',\n",
       " '/american_football/football_player/former_teams./sports/sports_team_roster/team',\n",
       " '/american_football/football_player/former_teams./sports/sports_team_roster/team',\n",
       " '/american_football/football_player/former_teams./sports/sports_team_roster/team',\n",
       " '/american_football/football_player/former_teams./sports/sports_team_roster/team',\n",
       " '/american_football/football_player/former_teams./sports/sports_team_roster/team',\n",
       " '/american_football/football_player/former_teams./sports/sports_team_roster/team',\n",
       " '/american_football/football_player/former_teams./sports/sports_team_roster/team',\n",
       " '/american_football/football_player/former_teams./sports/sports_team_roster/team',\n",
       " '/american_football/football_player/former_teams./sports/sports_team_roster/team',\n",
       " '/american_football/football_player/former_teams./sports/sports_team_roster/team',\n",
       " '/american_football/football_player/former_teams./sports/sports_team_roster/team',\n",
       " '/american_football/football_player/former_teams./sports/sports_team_roster/team',\n",
       " '/american_football/football_player/former_teams./sports/sports_team_roster/team',\n",
       " '/american_football/football_player/former_teams./sports/sports_team_roster/team',\n",
       " '/american_football/football_player/former_teams./sports/sports_team_roster/team',\n",
       " '/american_football/football_player/former_teams./sports/sports_team_roster/team',\n",
       " '/american_football/football_player/former_teams./sports/sports_team_roster/team',\n",
       " '/american_football/football_player/former_teams./sports/sports_team_roster/team',\n",
       " '/american_football/football_player/former_teams./sports/sports_team_roster/team',\n",
       " '/american_football/football_player/former_teams./sports/sports_team_roster/team',\n",
       " '/american_football/football_player/former_teams./sports/sports_team_roster/team',\n",
       " '/american_football/football_player/former_teams./sports/sports_team_roster/team',\n",
       " '/american_football/football_player/former_teams./sports/sports_team_roster/team',\n",
       " '/american_football/football_player/former_teams./sports/sports_team_roster/team',\n",
       " '/american_football/football_player/former_teams./sports/sports_team_roster/team',\n",
       " '/american_football/football_player/former_teams./sports/sports_team_roster/team',\n",
       " '/american_football/football_player/former_teams./sports/sports_team_roster/team',\n",
       " '/american_football/football_player/former_teams./sports/sports_team_roster/team',\n",
       " '/american_football/football_player/former_teams./sports/sports_team_roster/team',\n",
       " '/american_football/football_player/former_teams./sports/sports_team_roster/team',\n",
       " '/american_football/football_player/games./american_football/player_game_statistics/season',\n",
       " '/american_football/football_player/games./american_football/player_game_statistics/season',\n",
       " '/american_football/football_player/games./american_football/player_game_statistics/season',\n",
       " '/american_football/football_player/games./american_football/player_game_statistics/season',\n",
       " '/american_football/football_player/games./american_football/player_game_statistics/season',\n",
       " '/american_football/football_player/games./american_football/player_game_statistics/season',\n",
       " '/american_football/football_player/games./american_football/player_game_statistics/team',\n",
       " '/american_football/football_player/games./american_football/player_game_statistics/team',\n",
       " '/american_football/football_player/games./american_football/player_game_statistics/team',\n",
       " '/american_football/football_player/games./american_football/player_game_statistics/team',\n",
       " '/american_football/football_player/games./american_football/player_game_statistics/team',\n",
       " '/american_football/football_player/passing./american_football/player_passing_statistics/season',\n",
       " '/american_football/football_player/passing./american_football/player_passing_statistics/season',\n",
       " '/american_football/football_player/passing./american_football/player_passing_statistics/season',\n",
       " '/american_football/football_player/passing./american_football/player_passing_statistics/season',\n",
       " '/american_football/football_player/passing./american_football/player_passing_statistics/season',\n",
       " '/american_football/football_player/passing./american_football/player_passing_statistics/team',\n",
       " '/american_football/football_player/passing./american_football/player_passing_statistics/team',\n",
       " '/american_football/football_player/passing./american_football/player_passing_statistics/team',\n",
       " '/american_football/football_player/passing./american_football/player_passing_statistics/team',\n",
       " '/american_football/football_player/position_s',\n",
       " '/american_football/football_player/position_s',\n",
       " '/american_football/football_player/position_s',\n",
       " '/american_football/football_player/position_s',\n",
       " '/american_football/football_player/position_s',\n",
       " '/american_football/football_player/position_s',\n",
       " '/american_football/football_player/position_s',\n",
       " '/american_football/football_player/position_s',\n",
       " '/american_football/football_player/position_s',\n",
       " '/american_football/football_player/position_s',\n",
       " '/american_football/football_player/position_s',\n",
       " '/american_football/football_player/position_s',\n",
       " '/american_football/football_player/position_s',\n",
       " '/american_football/football_player/position_s',\n",
       " '/american_football/football_player/position_s',\n",
       " '/american_football/football_player/position_s',\n",
       " '/american_football/football_player/position_s',\n",
       " '/american_football/football_player/position_s',\n",
       " '/american_football/football_player/position_s',\n",
       " '/american_football/football_player/position_s',\n",
       " '/american_football/football_player/position_s',\n",
       " '/american_football/football_player/position_s',\n",
       " '/american_football/football_player/position_s',\n",
       " '/american_football/football_player/position_s',\n",
       " '/american_football/football_player/position_s',\n",
       " '/american_football/football_player/position_s',\n",
       " '/american_football/football_player/position_s',\n",
       " '/american_football/football_player/position_s',\n",
       " '/american_football/football_player/position_s',\n",
       " '/american_football/football_player/position_s',\n",
       " '/american_football/football_player/position_s',\n",
       " '/american_football/football_player/position_s',\n",
       " '/american_football/football_player/position_s',\n",
       " '/american_football/football_player/position_s',\n",
       " '/american_football/football_player/position_s',\n",
       " '/american_football/football_player/receiving./american_football/player_receiving_statistics/season',\n",
       " '/american_football/football_player/receiving./american_football/player_receiving_statistics/season',\n",
       " '/american_football/football_player/receiving./american_football/player_receiving_statistics/team',\n",
       " '/american_football/football_player/receiving./american_football/player_receiving_statistics/team',\n",
       " '/american_football/football_player/rushing./american_football/player_rushing_statistics/season',\n",
       " '/american_football/football_player/rushing./american_football/player_rushing_statistics/season',\n",
       " '/american_football/football_player/rushing./american_football/player_rushing_statistics/season',\n",
       " '/american_football/football_player/rushing./american_football/player_rushing_statistics/season',\n",
       " '/american_football/football_player/rushing./american_football/player_rushing_statistics/season',\n",
       " '/american_football/football_player/rushing./american_football/player_rushing_statistics/team',\n",
       " '/american_football/football_player/rushing./american_football/player_rushing_statistics/team',\n",
       " '/american_football/football_player/rushing./american_football/player_rushing_statistics/team',\n",
       " '/american_football/football_player/rushing./american_football/player_rushing_statistics/team',\n",
       " '/american_football/football_player/rushing./american_football/player_rushing_statistics/team',\n",
       " '/american_football/football_position/players',\n",
       " '/american_football/football_position/players',\n",
       " '/american_football/football_position/players',\n",
       " '/american_football/football_position/players',\n",
       " '/american_football/football_position/players',\n",
       " '/american_football/football_position/players',\n",
       " '/american_football/football_position/players',\n",
       " '/american_football/football_position/players',\n",
       " '/american_football/football_position/players',\n",
       " '/american_football/football_position/players',\n",
       " '/american_football/football_position/players',\n",
       " '/american_football/football_position/players',\n",
       " '/american_football/football_position/players',\n",
       " '/american_football/football_position/players',\n",
       " '/american_football/football_position/players',\n",
       " '/american_football/football_position/players',\n",
       " '/american_football/football_position/players',\n",
       " '/american_football/football_position/players',\n",
       " '/american_football/football_position/players',\n",
       " '/american_football/football_position/players',\n",
       " '/american_football/football_position/players',\n",
       " '/american_football/football_position/players',\n",
       " '/american_football/football_position/players',\n",
       " '/american_football/football_position/players',\n",
       " '/american_football/football_position/players',\n",
       " '/american_football/football_position/players',\n",
       " '/american_football/football_position/players',\n",
       " '/american_football/football_position/players',\n",
       " '/american_football/football_position/players',\n",
       " '/american_football/football_position/players',\n",
       " '/american_football/football_position/players',\n",
       " '/american_football/football_position/players',\n",
       " '/american_football/football_position/players',\n",
       " '/american_football/football_position/players',\n",
       " '/american_football/football_position/players',\n",
       " '/american_football/football_team/current_roster./american_football/football_roster_position/player',\n",
       " '/american_football/football_team/current_roster./american_football/football_roster_position/position',\n",
       " '/american_football/football_team/current_roster./american_football/football_roster_position/position',\n",
       " '/american_football/football_team/current_roster./american_football/football_roster_position/position',\n",
       " '/american_football/football_team/current_roster./american_football/football_roster_position/position',\n",
       " '/american_football/football_team/current_roster./american_football/football_roster_position/position',\n",
       " '/american_football/football_team/current_roster./american_football/football_roster_position/position',\n",
       " '/american_football/football_team/current_roster./american_football/football_roster_position/position',\n",
       " '/american_football/football_team/current_roster./american_football/football_roster_position/position',\n",
       " '/american_football/football_team/current_roster./american_football/football_roster_position/position',\n",
       " '/american_football/football_team/current_roster./american_football/football_roster_position/position',\n",
       " '/american_football/football_team/current_roster./american_football/football_roster_position/position',\n",
       " '/american_football/football_team/current_roster./american_football/football_roster_position/position',\n",
       " '/american_football/football_team/current_roster./american_football/football_roster_position/position',\n",
       " '/american_football/football_team/current_roster./american_football/football_roster_position/position',\n",
       " '/american_football/football_team/current_roster./american_football/football_roster_position/position',\n",
       " '/american_football/football_team/current_roster./american_football/football_roster_position/position',\n",
       " '/american_football/football_team/current_roster./american_football/football_roster_position/position',\n",
       " '/american_football/football_team/current_roster./american_football/football_roster_position/position',\n",
       " '/american_football/football_team/current_roster./american_football/football_roster_position/position',\n",
       " '/american_football/football_team/current_roster./american_football/football_roster_position/position',\n",
       " '/american_football/football_team/current_roster./american_football/football_roster_position/position',\n",
       " '/american_football/football_team/current_roster./american_football/football_roster_position/position',\n",
       " '/american_football/football_team/current_roster./american_football/football_roster_position/position',\n",
       " '/american_football/football_team/current_roster./american_football/football_roster_position/position',\n",
       " '/american_football/football_team/current_roster./american_football/football_roster_position/position',\n",
       " '/american_football/football_team/current_roster./american_football/football_roster_position/position',\n",
       " '/american_football/football_team/current_roster./american_football/football_roster_position/position',\n",
       " '/american_football/football_team/current_roster./american_football/football_roster_position/position',\n",
       " '/american_football/football_team/current_roster./american_football/football_roster_position/position',\n",
       " '/american_football/football_team/current_roster./american_football/football_roster_position/position',\n",
       " '/american_football/football_team/current_roster./american_football/football_roster_position/position',\n",
       " '/american_football/football_team/current_roster./american_football/football_roster_position/position',\n",
       " '/american_football/football_team/current_roster./american_football/football_roster_position/position',\n",
       " '/american_football/football_team/current_roster./american_football/football_roster_position/position',\n",
       " '/american_football/football_team/current_roster./american_football/football_roster_position/position',\n",
       " '/american_football/football_team/current_roster./american_football/football_roster_position/position',\n",
       " '/american_football/football_team/current_roster./american_football/football_roster_position/position',\n",
       " '/american_football/football_team/current_roster./american_football/football_roster_position/position',\n",
       " '/american_football/football_team/current_roster./american_football/football_roster_position/position',\n",
       " '/american_football/football_team/current_roster./american_football/football_roster_position/position',\n",
       " '/american_football/football_team/current_roster./american_football/football_roster_position/position',\n",
       " '/american_football/football_team/current_roster./american_football/football_roster_position/position',\n",
       " '/american_football/football_team/current_roster./american_football/football_roster_position/position',\n",
       " '/american_football/football_team/current_roster./american_football/football_roster_position/position',\n",
       " '/american_football/football_team/current_roster./american_football/football_roster_position/position',\n",
       " '/american_football/football_team/current_roster./american_football/football_roster_position/position',\n",
       " '/american_football/football_team/current_roster./american_football/football_roster_position/position',\n",
       " '/american_football/football_team/current_roster./american_football/football_roster_position/position',\n",
       " '/american_football/football_team/current_roster./american_football/football_roster_position/position',\n",
       " '/american_football/football_team/current_roster./american_football/football_roster_position/position',\n",
       " '/american_football/football_team/current_roster./american_football/football_roster_position/position',\n",
       " '/american_football/football_team/current_roster./american_football/football_roster_position/position',\n",
       " '/american_football/football_team/current_roster./american_football/football_roster_position/position',\n",
       " '/american_football/football_team/current_roster./american_football/football_roster_position/position',\n",
       " '/american_football/football_team/current_roster./american_football/football_roster_position/position',\n",
       " '/american_football/football_team/current_roster./american_football/football_roster_position/position',\n",
       " '/american_football/football_team/current_roster./american_football/football_roster_position/position',\n",
       " '/american_football/football_team/current_roster./american_football/football_roster_position/position',\n",
       " '/american_football/football_team/current_roster./american_football/football_roster_position/position',\n",
       " '/american_football/football_team/current_roster./american_football/football_roster_position/position',\n",
       " '/american_football/football_team/current_roster./american_football/football_roster_position/position',\n",
       " '/american_football/football_team/current_roster./american_football/football_roster_position/position',\n",
       " '/american_football/football_team/current_roster./american_football/football_roster_position/position',\n",
       " '/american_football/football_team/current_roster./american_football/football_roster_position/position',\n",
       " '/american_football/football_team/current_roster./american_football/football_roster_position/position',\n",
       " '/american_football/football_team/current_roster./american_football/football_roster_position/position',\n",
       " '/american_football/football_team/current_roster./american_football/football_roster_position/position',\n",
       " '/american_football/football_team/current_roster./american_football/football_roster_position/position',\n",
       " '/american_football/football_team/current_roster./american_football/football_roster_position/position',\n",
       " '/american_football/football_team/current_roster./american_football/football_roster_position/position',\n",
       " '/american_football/football_team/current_roster./american_football/football_roster_position/position',\n",
       " '/american_football/football_team/current_roster./american_football/football_roster_position/position',\n",
       " '/american_football/football_team/current_roster./american_football/football_roster_position/position',\n",
       " '/american_football/football_team/current_roster./american_football/football_roster_position/position',\n",
       " '/american_football/football_team/current_roster./american_football/football_roster_position/position',\n",
       " '/american_football/football_team/current_roster./american_football/football_roster_position/position',\n",
       " '/american_football/football_team/current_roster./american_football/football_roster_position/position',\n",
       " '/american_football/football_team/current_roster./american_football/football_roster_position/position',\n",
       " '/american_football/football_team/current_roster./american_football/football_roster_position/position',\n",
       " '/american_football/football_team/current_roster./american_football/football_roster_position/position',\n",
       " '/american_football/football_team/current_roster./american_football/football_roster_position/position',\n",
       " '/american_football/football_team/current_roster./american_football/football_roster_position/position',\n",
       " '/american_football/football_team/current_roster./american_football/football_roster_position/position',\n",
       " '/american_football/football_team/current_roster./american_football/football_roster_position/position',\n",
       " '/american_football/football_team/current_roster./american_football/football_roster_position/position',\n",
       " '/american_football/football_team/current_roster./american_football/football_roster_position/position',\n",
       " '/american_football/football_team/current_roster./american_football/football_roster_position/position',\n",
       " '/american_football/football_team/current_roster./american_football/football_roster_position/position',\n",
       " '/american_football/football_team/current_roster./american_football/football_roster_position/position',\n",
       " '/american_football/football_team/current_roster./american_football/football_roster_position/position',\n",
       " '/american_football/football_team/current_roster./american_football/football_roster_position/position',\n",
       " '/american_football/football_team/current_roster./american_football/football_roster_position/position',\n",
       " '/american_football/football_team/current_roster./american_football/football_roster_position/position',\n",
       " '/american_football/football_team/current_roster./american_football/football_roster_position/position',\n",
       " '/american_football/football_team/current_roster./american_football/football_roster_position/position',\n",
       " '/american_football/football_team/current_roster./american_football/football_roster_position/position',\n",
       " '/american_football/football_team/current_roster./american_football/football_roster_position/position',\n",
       " '/american_football/football_team/current_roster./american_football/football_roster_position/position',\n",
       " '/american_football/football_team/current_roster./american_football/football_roster_position/position',\n",
       " '/american_football/football_team/current_roster./american_football/football_roster_position/position',\n",
       " '/american_football/football_team/current_roster./american_football/football_roster_position/position',\n",
       " '/american_football/football_team/current_roster./american_football/football_roster_position/position',\n",
       " '/american_football/football_team/current_roster./american_football/football_roster_position/position',\n",
       " '/american_football/football_team/current_roster./american_football/football_roster_position/position',\n",
       " '/american_football/football_team/current_roster./american_football/football_roster_position/position',\n",
       " '/american_football/football_team/current_roster./american_football/football_roster_position/position',\n",
       " '/american_football/football_team/current_roster./american_football/football_roster_position/position',\n",
       " '/american_football/football_team/current_roster./american_football/football_roster_position/position',\n",
       " '/american_football/football_team/current_roster./american_football/football_roster_position/position',\n",
       " '/american_football/football_team/current_roster./american_football/football_roster_position/position',\n",
       " '/american_football/football_team/current_roster./american_football/football_roster_position/position',\n",
       " '/american_football/football_team/current_roster./american_football/football_roster_position/position',\n",
       " '/american_football/football_team/current_roster./american_football/football_roster_position/position',\n",
       " '/american_football/football_team/current_roster./american_football/football_roster_position/position',\n",
       " '/american_football/football_team/current_roster./american_football/football_roster_position/position',\n",
       " '/american_football/football_team/current_roster./american_football/football_roster_position/position',\n",
       " '/american_football/football_team/current_roster./american_football/football_roster_position/position',\n",
       " '/american_football/football_team/current_roster./american_football/football_roster_position/position',\n",
       " '/american_football/football_team/current_roster./american_football/football_roster_position/position',\n",
       " '/american_football/football_team/current_roster./american_football/football_roster_position/position',\n",
       " '/american_football/football_team/current_roster./american_football/football_roster_position/position',\n",
       " '/american_football/football_team/current_roster./american_football/football_roster_position/position',\n",
       " '/american_football/football_team/current_roster./american_football/football_roster_position/position',\n",
       " '/american_football/football_team/current_roster./american_football/football_roster_position/position',\n",
       " '/american_football/football_team/current_roster./american_football/football_roster_position/position',\n",
       " '/american_football/football_team/current_roster./american_football/football_roster_position/position',\n",
       " '/american_football/football_team/current_roster./american_football/football_roster_position/position',\n",
       " '/american_football/football_team/current_roster./american_football/football_roster_position/position',\n",
       " '/american_football/football_team/current_roster./american_football/football_roster_position/position',\n",
       " '/american_football/football_team/current_roster./american_football/football_roster_position/position',\n",
       " '/american_football/football_team/current_roster./american_football/football_roster_position/position',\n",
       " '/american_football/football_team/current_roster./american_football/football_roster_position/position',\n",
       " '/american_football/football_team/current_roster./american_football/football_roster_position/position',\n",
       " '/american_football/football_team/current_roster./american_football/football_roster_position/position',\n",
       " '/american_football/football_team/current_roster./american_football/football_roster_position/position',\n",
       " '/american_football/football_team/current_roster./american_football/football_roster_position/position',\n",
       " '/american_football/football_team/current_roster./american_football/football_roster_position/position',\n",
       " '/american_football/football_team/current_roster./american_football/football_roster_position/position',\n",
       " '/american_football/football_team/current_roster./american_football/football_roster_position/position',\n",
       " '/american_football/football_team/current_roster./american_football/football_roster_position/position',\n",
       " '/american_football/football_team/current_roster./american_football/football_roster_position/position',\n",
       " '/american_football/football_team/current_roster./american_football/football_roster_position/position',\n",
       " '/american_football/football_team/current_roster./american_football/football_roster_position/position',\n",
       " '/american_football/football_team/current_roster./american_football/football_roster_position/position',\n",
       " '/american_football/football_team/current_roster./american_football/football_roster_position/position',\n",
       " '/american_football/football_team/current_roster./american_football/football_roster_position/position',\n",
       " '/american_football/football_team/current_roster./american_football/football_roster_position/position',\n",
       " '/american_football/football_team/current_roster./american_football/football_roster_position/position',\n",
       " '/american_football/football_team/current_roster./american_football/football_roster_position/position',\n",
       " '/american_football/football_team/current_roster./american_football/football_roster_position/position',\n",
       " '/american_football/football_team/current_roster./american_football/football_roster_position/position',\n",
       " '/american_football/football_team/current_roster./american_football/football_roster_position/position',\n",
       " '/american_football/football_team/current_roster./american_football/football_roster_position/position',\n",
       " '/american_football/football_team/current_roster./american_football/football_roster_position/position',\n",
       " '/american_football/football_team/current_roster./american_football/football_roster_position/position',\n",
       " '/american_football/football_team/current_roster./american_football/football_roster_position/position',\n",
       " '/american_football/football_team/current_roster./american_football/football_roster_position/position',\n",
       " '/american_football/football_team/current_roster./american_football/football_roster_position/position',\n",
       " '/american_football/football_team/current_roster./american_football/football_roster_position/position',\n",
       " '/american_football/football_team/current_roster./american_football/football_roster_position/position',\n",
       " '/american_football/football_team/current_roster./american_football/football_roster_position/position',\n",
       " '/american_football/football_team/current_roster./american_football/football_roster_position/position',\n",
       " '/american_football/football_team/current_roster./american_football/football_roster_position/position',\n",
       " '/american_football/football_team/current_roster./american_football/football_roster_position/position',\n",
       " '/american_football/football_team/current_roster./american_football/football_roster_position/position',\n",
       " '/american_football/football_team/current_roster./american_football/football_roster_position/position',\n",
       " '/american_football/football_team/current_roster./american_football/football_roster_position/position',\n",
       " '/american_football/football_team/current_roster./american_football/football_roster_position/position',\n",
       " '/american_football/football_team/current_roster./american_football/football_roster_position/position',\n",
       " '/american_football/football_team/current_roster./american_football/football_roster_position/position',\n",
       " '/american_football/football_team/current_roster./american_football/football_roster_position/position',\n",
       " '/american_football/football_team/current_roster./american_football/football_roster_position/position',\n",
       " '/american_football/football_team/current_roster./american_football/football_roster_position/position',\n",
       " '/american_football/football_team/current_roster./american_football/football_roster_position/position',\n",
       " '/american_football/football_team/current_roster./american_football/football_roster_position/position',\n",
       " '/american_football/football_team/current_roster./american_football/football_roster_position/position',\n",
       " '/american_football/football_team/current_roster./american_football/football_roster_position/position',\n",
       " '/american_football/football_team/current_roster./american_football/football_roster_position/position',\n",
       " '/american_football/football_team/current_roster./american_football/football_roster_position/position',\n",
       " '/american_football/football_team/current_roster./american_football/football_roster_position/position',\n",
       " '/american_football/football_team/current_roster./american_football/football_roster_position/position',\n",
       " '/american_football/football_team/current_roster./american_football/football_roster_position/position',\n",
       " '/american_football/football_team/current_roster./american_football/football_roster_position/position',\n",
       " '/american_football/football_team/current_roster./american_football/football_roster_position/position',\n",
       " '/american_football/football_team/current_roster./american_football/football_roster_position/position',\n",
       " '/american_football/football_team/current_roster./american_football/football_roster_position/position',\n",
       " '/american_football/football_team/current_roster./american_football/football_roster_position/position',\n",
       " '/american_football/football_team/current_roster./american_football/football_roster_position/position',\n",
       " '/american_football/football_team/current_roster./american_football/football_roster_position/position',\n",
       " '/american_football/football_team/current_roster./american_football/football_roster_position/position',\n",
       " '/american_football/football_team/current_roster./american_football/football_roster_position/position',\n",
       " '/american_football/football_team/current_roster./american_football/football_roster_position/position',\n",
       " '/american_football/football_team/current_roster./american_football/football_roster_position/position',\n",
       " '/american_football/football_team/current_roster./american_football/football_roster_position/position',\n",
       " '/american_football/football_team/current_roster./american_football/football_roster_position/position',\n",
       " '/american_football/football_team/current_roster./american_football/football_roster_position/position',\n",
       " '/american_football/football_team/current_roster./american_football/football_roster_position/position',\n",
       " '/american_football/football_team/current_roster./american_football/football_roster_position/position',\n",
       " '/american_football/football_team/current_roster./american_football/football_roster_position/position',\n",
       " '/american_football/football_team/current_roster./american_football/football_roster_position/position',\n",
       " '/american_football/football_team/current_roster./american_football/football_roster_position/position',\n",
       " '/american_football/football_team/current_roster./american_football/football_roster_position/position',\n",
       " '/american_football/football_team/current_roster./american_football/football_roster_position/position',\n",
       " '/american_football/football_team/current_roster./american_football/football_roster_position/position',\n",
       " '/american_football/football_team/current_roster./american_football/football_roster_position/position',\n",
       " '/american_football/football_team/current_roster./american_football/football_roster_position/position',\n",
       " '/american_football/football_team/current_roster./american_football/football_roster_position/position',\n",
       " '/american_football/football_team/current_roster./american_football/football_roster_position/position',\n",
       " '/american_football/football_team/current_roster./american_football/football_roster_position/position',\n",
       " '/american_football/football_team/current_roster./american_football/football_roster_position/position',\n",
       " '/american_football/football_team/current_roster./american_football/football_roster_position/position',\n",
       " '/american_football/football_team/current_roster./american_football/football_roster_position/position',\n",
       " '/american_football/football_team/current_roster./american_football/football_roster_position/position',\n",
       " '/american_football/football_team/current_roster./american_football/football_roster_position/position',\n",
       " '/american_football/football_team/current_roster./american_football/football_roster_position/position',\n",
       " '/american_football/football_team/current_roster./american_football/football_roster_position/position',\n",
       " '/american_football/football_team/current_roster./american_football/football_roster_position/position',\n",
       " '/american_football/football_team/current_roster./american_football/football_roster_position/position',\n",
       " '/american_football/football_team/current_roster./american_football/football_roster_position/position',\n",
       " '/american_football/football_team/current_roster./american_football/football_roster_position/position',\n",
       " '/american_football/football_team/current_roster./american_football/football_roster_position/position',\n",
       " '/american_football/football_team/current_roster./american_football/football_roster_position/position',\n",
       " '/american_football/football_team/current_roster./american_football/football_roster_position/position',\n",
       " '/american_football/football_team/current_roster./american_football/football_roster_position/position',\n",
       " '/american_football/football_team/current_roster./american_football/football_roster_position/position',\n",
       " '/american_football/football_team/current_roster./american_football/football_roster_position/position',\n",
       " '/american_football/football_team/current_roster./american_football/football_roster_position/position',\n",
       " '/american_football/football_team/current_roster./american_football/football_roster_position/position',\n",
       " '/american_football/football_team/current_roster./american_football/football_roster_position/position',\n",
       " '/american_football/football_team/current_roster./american_football/football_roster_position/position',\n",
       " '/american_football/football_team/current_roster./american_football/football_roster_position/position',\n",
       " '/american_football/football_team/current_roster./american_football/football_roster_position/position',\n",
       " '/american_football/football_team/current_roster./american_football/football_roster_position/position',\n",
       " '/american_football/football_team/current_roster./american_football/football_roster_position/position',\n",
       " '/american_football/football_team/current_roster./american_football/football_roster_position/position',\n",
       " '/american_football/football_team/current_roster./american_football/football_roster_position/position',\n",
       " '/american_football/football_team/current_roster./american_football/football_roster_position/position',\n",
       " '/american_football/football_team/current_roster./american_football/football_roster_position/position',\n",
       " '/american_football/football_team/current_roster./american_football/football_roster_position/position',\n",
       " '/american_football/football_team/current_roster./american_football/football_roster_position/position',\n",
       " '/american_football/football_team/current_roster./american_football/football_roster_position/position',\n",
       " '/american_football/football_team/current_roster./american_football/football_roster_position/position',\n",
       " '/american_football/football_team/current_roster./american_football/football_roster_position/position',\n",
       " '/american_football/football_team/current_roster./american_football/football_roster_position/position',\n",
       " '/american_football/football_team/current_roster./american_football/football_roster_position/position',\n",
       " '/american_football/football_team/current_roster./american_football/football_roster_position/position',\n",
       " '/american_football/football_team/current_roster./american_football/football_roster_position/position',\n",
       " '/american_football/football_team/current_roster./american_football/football_roster_position/position',\n",
       " '/american_football/football_team/current_roster./american_football/football_roster_position/position',\n",
       " '/american_football/football_team/current_roster./american_football/football_roster_position/position',\n",
       " '/american_football/football_team/current_roster./american_football/football_roster_position/position',\n",
       " '/american_football/football_team/current_roster./american_football/football_roster_position/position',\n",
       " '/american_football/football_team/current_roster./american_football/football_roster_position/position',\n",
       " '/american_football/football_team/current_roster./american_football/football_roster_position/position',\n",
       " '/american_football/football_team/current_roster./american_football/football_roster_position/position',\n",
       " '/american_football/football_team/current_roster./american_football/football_roster_position/position',\n",
       " '/american_football/football_team/current_roster./american_football/football_roster_position/position',\n",
       " '/american_football/football_team/current_roster./american_football/football_roster_position/position',\n",
       " '/american_football/football_team/current_roster./american_football/football_roster_position/position',\n",
       " '/american_football/football_team/current_roster./american_football/football_roster_position/position',\n",
       " '/american_football/football_team/current_roster./american_football/football_roster_position/position',\n",
       " '/american_football/football_team/current_roster./american_football/football_roster_position/position',\n",
       " '/american_football/football_team/current_roster./american_football/football_roster_position/position',\n",
       " '/american_football/football_team/current_roster./american_football/football_roster_position/position',\n",
       " '/american_football/football_team/current_roster./american_football/football_roster_position/position',\n",
       " '/american_football/football_team/current_roster./american_football/football_roster_position/position',\n",
       " '/american_football/football_team/current_roster./american_football/football_roster_position/position',\n",
       " '/american_football/football_team/current_roster./american_football/football_roster_position/position',\n",
       " '/american_football/football_team/current_roster./american_football/football_roster_position/position',\n",
       " '/american_football/football_team/current_roster./american_football/football_roster_position/position',\n",
       " '/american_football/football_team/current_roster./american_football/football_roster_position/position',\n",
       " '/american_football/football_team/current_roster./american_football/football_roster_position/position',\n",
       " '/american_football/football_team/current_roster./american_football/football_roster_position/position',\n",
       " '/american_football/football_team/current_roster./american_football/football_roster_position/position',\n",
       " '/american_football/football_team/current_roster./american_football/football_roster_position/position',\n",
       " '/american_football/football_team/current_roster./american_football/football_roster_position/position',\n",
       " '/american_football/football_team/current_roster./american_football/football_roster_position/position',\n",
       " '/american_football/football_team/current_roster./american_football/football_roster_position/position',\n",
       " '/american_football/football_team/current_roster./american_football/football_roster_position/position',\n",
       " '/american_football/football_team/current_roster./american_football/football_roster_position/position',\n",
       " '/american_football/football_team/current_roster./american_football/football_roster_position/position',\n",
       " '/american_football/football_team/current_roster./american_football/football_roster_position/position',\n",
       " '/american_football/football_team/current_roster./american_football/football_roster_position/position',\n",
       " '/american_football/football_team/current_roster./american_football/football_roster_position/position',\n",
       " '/american_football/football_team/current_roster./american_football/football_roster_position/position',\n",
       " '/american_football/football_team/current_roster./american_football/football_roster_position/position',\n",
       " '/american_football/football_team/current_roster./american_football/football_roster_position/position',\n",
       " '/american_football/football_team/current_roster./american_football/football_roster_position/position',\n",
       " '/american_football/football_team/current_roster./american_football/football_roster_position/position',\n",
       " '/american_football/football_team/current_roster./american_football/football_roster_position/position',\n",
       " '/american_football/football_team/current_roster./american_football/football_roster_position/position',\n",
       " '/american_football/football_team/current_roster./american_football/football_roster_position/position',\n",
       " '/american_football/football_team/current_roster./american_football/football_roster_position/position',\n",
       " '/american_football/football_team/current_roster./american_football/football_roster_position/position',\n",
       " '/american_football/football_team/current_roster./american_football/football_roster_position/position',\n",
       " '/american_football/football_team/current_roster./american_football/football_roster_position/position',\n",
       " '/american_football/football_team/current_roster./american_football/football_roster_position/position',\n",
       " '/american_football/football_team/current_roster./american_football/football_roster_position/position',\n",
       " '/american_football/football_team/current_roster./american_football/football_roster_position/position',\n",
       " '/american_football/football_team/current_roster./american_football/football_roster_position/position',\n",
       " '/american_football/football_team/current_roster./american_football/football_roster_position/position',\n",
       " '/american_football/football_team/current_roster./american_football/football_roster_position/position',\n",
       " '/american_football/football_team/current_roster./american_football/football_roster_position/position',\n",
       " '/american_football/football_team/current_roster./american_football/football_roster_position/position',\n",
       " '/american_football/football_team/current_roster./american_football/football_roster_position/position',\n",
       " '/american_football/football_team/current_roster./american_football/football_roster_position/position',\n",
       " '/american_football/football_team/current_roster./american_football/football_roster_position/position',\n",
       " '/american_football/football_team/current_roster./american_football/football_roster_position/position',\n",
       " '/american_football/football_team/current_roster./american_football/football_roster_position/position',\n",
       " '/american_football/football_team/current_roster./american_football/football_roster_position/position',\n",
       " '/american_football/football_team/current_roster./american_football/football_roster_position/position',\n",
       " '/american_football/football_team/current_roster./american_football/football_roster_position/position',\n",
       " '/american_football/football_team/current_roster./american_football/football_roster_position/position',\n",
       " '/american_football/football_team/current_roster./american_football/football_roster_position/position',\n",
       " '/american_football/football_team/current_roster./american_football/football_roster_position/position',\n",
       " '/american_football/football_team/current_roster./american_football/football_roster_position/position',\n",
       " '/american_football/football_team/current_roster./american_football/football_roster_position/position',\n",
       " '/american_football/football_team/current_roster./american_football/football_roster_position/position',\n",
       " '/american_football/football_team/current_roster./american_football/football_roster_position/position',\n",
       " '/american_football/football_team/current_roster./american_football/football_roster_position/position',\n",
       " '/american_football/football_team/current_roster./american_football/football_roster_position/position',\n",
       " '/american_football/football_team/current_roster./american_football/football_roster_position/position',\n",
       " '/american_football/football_team/current_roster./american_football/football_roster_position/position',\n",
       " '/american_football/football_team/current_roster./american_football/football_roster_position/position',\n",
       " '/american_football/football_team/current_roster./american_football/football_roster_position/position',\n",
       " '/american_football/football_team/current_roster./american_football/football_roster_position/position',\n",
       " '/american_football/football_team/current_roster./american_football/football_roster_position/position',\n",
       " '/american_football/football_team/current_roster./american_football/football_roster_position/position',\n",
       " '/american_football/football_team/current_roster./american_football/football_roster_position/position',\n",
       " '/american_football/football_team/current_roster./american_football/football_roster_position/position',\n",
       " '/american_football/football_team/current_roster./american_football/football_roster_position/position',\n",
       " '/american_football/football_team/current_roster./american_football/football_roster_position/position',\n",
       " '/american_football/football_team/current_roster./american_football/football_roster_position/position',\n",
       " '/american_football/football_team/current_roster./american_football/football_roster_position/position',\n",
       " '/american_football/football_team/current_roster./american_football/football_roster_position/position',\n",
       " '/american_football/football_team/current_roster./american_football/football_roster_position/position',\n",
       " '/american_football/football_team/current_roster./american_football/football_roster_position/position',\n",
       " '/american_football/football_team/current_roster./american_football/football_roster_position/position',\n",
       " '/american_football/football_team/current_roster./american_football/football_roster_position/position',\n",
       " '/american_football/football_team/current_roster./american_football/football_roster_position/position',\n",
       " '/american_football/football_team/current_roster./american_football/football_roster_position/position',\n",
       " '/american_football/football_team/current_roster./american_football/football_roster_position/position',\n",
       " '/american_football/football_team/current_roster./american_football/football_roster_position/position',\n",
       " '/american_football/football_team/current_roster./american_football/football_roster_position/position',\n",
       " '/american_football/football_team/current_roster./american_football/football_roster_position/position',\n",
       " '/american_football/football_team/current_roster./american_football/football_roster_position/position',\n",
       " '/american_football/football_team/current_roster./american_football/football_roster_position/position',\n",
       " '/american_football/football_team/current_roster./american_football/football_roster_position/position',\n",
       " '/american_football/football_team/current_roster./american_football/football_roster_position/position',\n",
       " '/american_football/football_team/current_roster./american_football/football_roster_position/position',\n",
       " '/american_football/football_team/current_roster./american_football/football_roster_position/position',\n",
       " '/american_football/football_team/current_roster./american_football/football_roster_position/position',\n",
       " '/american_football/football_team/current_roster./american_football/football_roster_position/position',\n",
       " '/american_football/football_team/current_roster./american_football/football_roster_position/position',\n",
       " '/american_football/football_team/current_roster./american_football/football_roster_position/position',\n",
       " '/american_football/football_team/current_roster./american_football/football_roster_position/position',\n",
       " '/american_football/football_team/current_roster./american_football/football_roster_position/position',\n",
       " '/american_football/football_team/current_roster./american_football/football_roster_position/position',\n",
       " '/american_football/football_team/current_roster./american_football/football_roster_position/position',\n",
       " '/american_football/football_team/current_roster./american_football/football_roster_position/position',\n",
       " '/american_football/football_team/current_roster./american_football/football_roster_position/position',\n",
       " '/american_football/football_team/current_roster./american_football/football_roster_position/position',\n",
       " '/american_football/football_team/current_roster./american_football/football_roster_position/position',\n",
       " '/american_football/football_team/current_roster./american_football/football_roster_position/position',\n",
       " '/american_football/football_team/current_roster./american_football/football_roster_position/position',\n",
       " '/american_football/football_team/current_roster./american_football/football_roster_position/position',\n",
       " '/american_football/football_team/current_roster./american_football/football_roster_position/position',\n",
       " '/american_football/football_team/current_roster./american_football/football_roster_position/position',\n",
       " '/american_football/football_team/current_roster./american_football/football_roster_position/position',\n",
       " '/american_football/football_team/current_roster./american_football/football_roster_position/position',\n",
       " '/american_football/football_team/current_roster./american_football/football_roster_position/position',\n",
       " '/american_football/football_team/current_roster./american_football/football_roster_position/position',\n",
       " '/american_football/football_team/current_roster./american_football/football_roster_position/position',\n",
       " '/american_football/football_team/current_roster./american_football/football_roster_position/position',\n",
       " '/american_football/football_team/current_roster./american_football/football_roster_position/position',\n",
       " '/american_football/football_team/current_roster./american_football/football_roster_position/position',\n",
       " '/american_football/football_team/current_roster./american_football/football_roster_position/position',\n",
       " '/american_football/football_team/current_roster./american_football/football_roster_position/position',\n",
       " '/american_football/football_team/current_roster./american_football/football_roster_position/position',\n",
       " '/american_football/football_team/current_roster./american_football/football_roster_position/position',\n",
       " '/american_football/football_team/current_roster./american_football/football_roster_position/position',\n",
       " '/american_football/football_team/current_roster./american_football/football_roster_position/position',\n",
       " '/american_football/football_team/current_roster./american_football/football_roster_position/position',\n",
       " '/american_football/football_team/current_roster./american_football/football_roster_position/position',\n",
       " '/american_football/football_team/current_roster./american_football/football_roster_position/position',\n",
       " '/american_football/football_team/current_roster./american_football/football_roster_position/position',\n",
       " '/american_football/football_team/current_roster./american_football/football_roster_position/position',\n",
       " '/american_football/football_team/current_roster./american_football/football_roster_position/position',\n",
       " '/american_football/football_team/current_roster./american_football/football_roster_position/position',\n",
       " '/american_football/football_team/current_roster./american_football/football_roster_position/position',\n",
       " '/american_football/football_team/current_roster./american_football/football_roster_position/position',\n",
       " '/american_football/football_team/current_roster./american_football/football_roster_position/position',\n",
       " '/american_football/football_team/current_roster./american_football/football_roster_position/position',\n",
       " '/american_football/football_team/current_roster./american_football/football_roster_position/position',\n",
       " '/american_football/football_team/current_roster./american_football/football_roster_position/position',\n",
       " '/american_football/football_team/current_roster./american_football/football_roster_position/position',\n",
       " '/american_football/football_team/current_roster./american_football/football_roster_position/position',\n",
       " '/american_football/football_team/current_roster./american_football/football_roster_position/position',\n",
       " '/american_football/football_team/current_roster./american_football/football_roster_position/position',\n",
       " '/american_football/football_team/current_roster./american_football/football_roster_position/position',\n",
       " '/american_football/football_team/current_roster./american_football/football_roster_position/position',\n",
       " '/american_football/football_team/current_roster./american_football/football_roster_position/position',\n",
       " '/american_football/football_team/current_roster./american_football/football_roster_position/position',\n",
       " '/american_football/football_team/current_roster./american_football/football_roster_position/position',\n",
       " '/american_football/football_team/current_roster./american_football/football_roster_position/position',\n",
       " '/american_football/football_team/current_roster./american_football/football_roster_position/position',\n",
       " '/american_football/football_team/current_roster./american_football/football_roster_position/position',\n",
       " '/american_football/football_team/current_roster./american_football/football_roster_position/position',\n",
       " '/american_football/football_team/current_roster./american_football/football_roster_position/position',\n",
       " '/american_football/football_team/current_roster./american_football/football_roster_position/position',\n",
       " '/american_football/football_team/current_roster./american_football/football_roster_position/position',\n",
       " '/american_football/football_team/current_roster./american_football/football_roster_position/position',\n",
       " '/american_football/football_team/current_roster./american_football/football_roster_position/position',\n",
       " '/american_football/football_team/current_roster./american_football/football_roster_position/position',\n",
       " '/american_football/football_team/current_roster./american_football/football_roster_position/position',\n",
       " '/american_football/football_team/current_roster./american_football/football_roster_position/position',\n",
       " '/american_football/football_team/current_roster./american_football/football_roster_position/position',\n",
       " '/american_football/football_team/current_roster./american_football/football_roster_position/position',\n",
       " '/american_football/football_team/current_roster./american_football/football_roster_position/position',\n",
       " '/american_football/football_team/current_roster./american_football/football_roster_position/position',\n",
       " '/american_football/football_team/current_roster./american_football/football_roster_position/position',\n",
       " '/american_football/football_team/current_roster./american_football/football_roster_position/position',\n",
       " '/american_football/football_team/current_roster./american_football/football_roster_position/position',\n",
       " '/american_football/football_team/current_roster./american_football/football_roster_position/position',\n",
       " '/american_football/football_team/current_roster./american_football/football_roster_position/position',\n",
       " '/american_football/football_team/current_roster./american_football/football_roster_position/position',\n",
       " '/american_football/football_team/current_roster./american_football/football_roster_position/position',\n",
       " '/american_football/football_team/current_roster./american_football/football_roster_position/position',\n",
       " '/american_football/football_team/current_roster./american_football/football_roster_position/position',\n",
       " '/american_football/football_team/current_roster./american_football/football_roster_position/position',\n",
       " '/american_football/football_team/current_roster./american_football/football_roster_position/position',\n",
       " '/american_football/football_team/current_roster./american_football/football_roster_position/position',\n",
       " '/american_football/football_team/current_roster./american_football/football_roster_position/position',\n",
       " '/american_football/football_team/current_roster./american_football/football_roster_position/position',\n",
       " '/american_football/football_team/current_roster./american_football/football_roster_position/position',\n",
       " '/american_football/football_team/current_roster./american_football/football_roster_position/position',\n",
       " '/american_football/football_team/current_roster./american_football/football_roster_position/position',\n",
       " '/american_football/football_team/current_roster./american_football/football_roster_position/position',\n",
       " '/american_football/football_team/current_roster./american_football/football_roster_position/position',\n",
       " '/american_football/football_team/current_roster./american_football/football_roster_position/position',\n",
       " '/american_football/football_team/current_roster./american_football/football_roster_position/position',\n",
       " '/american_football/football_team/current_roster./american_football/football_roster_position/position',\n",
       " '/american_football/football_team/current_roster./american_football/football_roster_position/position',\n",
       " '/american_football/football_team/current_roster./american_football/football_roster_position/position',\n",
       " '/american_football/football_team/current_roster./american_football/football_roster_position/position',\n",
       " '/american_football/football_team/current_roster./american_football/football_roster_position/position',\n",
       " '/american_football/football_team/current_roster./american_football/football_roster_position/position',\n",
       " '/american_football/football_team/current_roster./american_football/football_roster_position/position',\n",
       " '/american_football/football_team/current_roster./american_football/football_roster_position/position',\n",
       " '/american_football/football_team/current_roster./american_football/football_roster_position/position',\n",
       " '/american_football/football_team/current_roster./american_football/football_roster_position/position',\n",
       " '/american_football/football_team/current_roster./american_football/football_roster_position/position',\n",
       " '/american_football/football_team/current_roster./american_football/football_roster_position/position',\n",
       " '/american_football/football_team/current_roster./american_football/football_roster_position/position',\n",
       " '/american_football/football_team/current_roster./american_football/football_roster_position/position',\n",
       " '/american_football/football_team/current_roster./american_football/football_roster_position/position',\n",
       " '/american_football/football_team/current_roster./american_football/football_roster_position/position',\n",
       " '/american_football/football_team/current_roster./american_football/football_roster_position/position',\n",
       " '/american_football/football_team/current_roster./american_football/football_roster_position/position',\n",
       " '/american_football/football_team/current_roster./american_football/football_roster_position/position',\n",
       " '/american_football/football_team/current_roster./american_football/football_roster_position/position',\n",
       " '/american_football/football_team/current_roster./american_football/football_roster_position/position',\n",
       " '/american_football/football_team/current_roster./american_football/football_roster_position/position',\n",
       " '/american_football/football_team/current_roster./american_football/football_roster_position/position',\n",
       " '/american_football/football_team/current_roster./american_football/football_roster_position/position',\n",
       " '/american_football/football_team/current_roster./american_football/football_roster_position/position',\n",
       " '/american_football/football_team/current_roster./american_football/football_roster_position/position',\n",
       " '/american_football/football_team/current_roster./american_football/football_roster_position/position',\n",
       " '/american_football/football_team/current_roster./american_football/football_roster_position/position',\n",
       " '/american_football/football_team/current_roster./american_football/football_roster_position/position',\n",
       " '/american_football/football_team/current_roster./american_football/football_roster_position/position',\n",
       " '/american_football/football_team/current_roster./american_football/football_roster_position/position',\n",
       " '/american_football/football_team/current_roster./american_football/football_roster_position/position',\n",
       " '/american_football/football_team/current_roster./american_football/football_roster_position/position',\n",
       " '/american_football/football_team/current_roster./american_football/football_roster_position/position',\n",
       " '/american_football/football_team/current_roster./american_football/football_roster_position/position',\n",
       " '/american_football/football_team/current_roster./american_football/football_roster_position/position',\n",
       " '/american_football/football_team/current_roster./american_football/football_roster_position/position',\n",
       " '/american_football/football_team/current_roster./american_football/football_roster_position/position',\n",
       " '/american_football/football_team/current_roster./american_football/football_roster_position/position',\n",
       " '/american_football/football_team/current_roster./american_football/football_roster_position/position',\n",
       " '/american_football/football_team/current_roster./american_football/football_roster_position/position',\n",
       " '/american_football/football_team/current_roster./american_football/football_roster_position/position',\n",
       " '/american_football/football_team/current_roster./american_football/football_roster_position/position',\n",
       " '/american_football/football_team/current_roster./american_football/football_roster_position/position',\n",
       " '/american_football/football_team/current_roster./american_football/football_roster_position/position',\n",
       " '/american_football/football_team/current_roster./american_football/football_roster_position/position',\n",
       " '/american_football/football_team/current_roster./american_football/football_roster_position/position',\n",
       " '/american_football/football_team/current_roster./american_football/football_roster_position/position',\n",
       " '/american_football/football_team/current_roster./american_football/football_roster_position/position',\n",
       " '/american_football/football_team/current_roster./american_football/football_roster_position/position',\n",
       " '/american_football/football_team/current_roster./american_football/football_roster_position/position',\n",
       " '/american_football/football_team/current_roster./american_football/football_roster_position/position',\n",
       " '/american_football/football_team/current_roster./american_football/football_roster_position/position',\n",
       " '/american_football/football_team/current_roster./american_football/football_roster_position/position',\n",
       " '/american_football/football_team/current_roster./american_football/football_roster_position/position',\n",
       " '/american_football/football_team/current_roster./american_football/football_roster_position/position',\n",
       " '/american_football/football_team/current_roster./american_football/football_roster_position/position',\n",
       " '/american_football/football_team/current_roster./american_football/football_roster_position/position',\n",
       " '/american_football/football_team/current_roster./american_football/football_roster_position/position',\n",
       " '/american_football/football_team/current_roster./american_football/football_roster_position/position',\n",
       " '/american_football/football_team/current_roster./american_football/football_roster_position/position',\n",
       " '/american_football/football_team/current_roster./american_football/football_roster_position/position',\n",
       " '/american_football/football_team/current_roster./american_football/football_roster_position/position',\n",
       " '/american_football/football_team/current_roster./american_football/football_roster_position/position',\n",
       " '/american_football/football_team/current_roster./american_football/football_roster_position/position',\n",
       " '/american_football/football_team/current_roster./american_football/football_roster_position/position',\n",
       " '/american_football/football_team/current_roster./american_football/football_roster_position/position',\n",
       " '/american_football/football_team/current_roster./american_football/football_roster_position/position',\n",
       " '/american_football/football_team/current_roster./american_football/football_roster_position/position',\n",
       " '/american_football/football_team/current_roster./american_football/football_roster_position/position',\n",
       " '/american_football/football_team/current_roster./american_football/football_roster_position/position',\n",
       " '/american_football/football_team/current_roster./american_football/football_roster_position/position',\n",
       " '/american_football/football_team/current_roster./american_football/football_roster_position/position',\n",
       " '/american_football/football_team/current_roster./american_football/football_roster_position/position',\n",
       " '/american_football/football_team/current_roster./american_football/football_roster_position/position',\n",
       " '/american_football/football_team/current_roster./american_football/football_roster_position/position',\n",
       " '/american_football/football_team/current_roster./american_football/football_roster_position/position',\n",
       " '/american_football/football_team/current_roster./american_football/football_roster_position/position',\n",
       " '/american_football/football_team/current_roster./american_football/football_roster_position/position',\n",
       " '/american_football/football_team/current_roster./american_football/football_roster_position/position',\n",
       " '/american_football/football_team/current_roster./american_football/football_roster_position/position',\n",
       " '/american_football/football_team/current_roster./american_football/football_roster_position/position',\n",
       " '/american_football/football_team/current_roster./american_football/football_roster_position/position',\n",
       " '/american_football/football_team/current_roster./american_football/football_roster_position/position',\n",
       " '/american_football/football_team/current_roster./american_football/football_roster_position/position',\n",
       " '/american_football/football_team/current_roster./american_football/football_roster_position/position',\n",
       " '/american_football/football_team/current_roster./american_football/football_roster_position/position',\n",
       " '/american_football/football_team/current_roster./american_football/football_roster_position/position',\n",
       " '/american_football/football_team/current_roster./american_football/football_roster_position/position',\n",
       " '/american_football/football_team/current_roster./american_football/football_roster_position/position',\n",
       " '/american_football/football_team/current_roster./american_football/football_roster_position/position',\n",
       " '/american_football/football_team/current_roster./american_football/football_roster_position/position',\n",
       " '/american_football/football_team/current_roster./american_football/football_roster_position/position',\n",
       " '/american_football/football_team/current_roster./american_football/football_roster_position/position',\n",
       " '/american_football/football_team/current_roster./american_football/football_roster_position/position',\n",
       " '/american_football/football_team/current_roster./american_football/football_roster_position/position',\n",
       " '/american_football/football_team/current_roster./american_football/football_roster_position/position',\n",
       " '/american_football/football_team/current_roster./american_football/football_roster_position/position',\n",
       " '/american_football/football_team/current_roster./american_football/football_roster_position/position',\n",
       " '/american_football/football_team/current_roster./american_football/football_roster_position/position',\n",
       " '/american_football/football_team/current_roster./american_football/football_roster_position/position',\n",
       " '/american_football/football_team/current_roster./american_football/football_roster_position/position',\n",
       " '/american_football/football_team/current_roster./american_football/football_roster_position/position',\n",
       " '/american_football/football_team/current_roster./american_football/football_roster_position/position',\n",
       " '/american_football/football_team/current_roster./american_football/football_roster_position/position',\n",
       " '/american_football/football_team/current_roster./american_football/football_roster_position/position',\n",
       " '/american_football/football_team/current_roster./american_football/football_roster_position/position',\n",
       " '/american_football/football_team/current_roster./american_football/football_roster_position/position',\n",
       " '/american_football/football_team/current_roster./american_football/football_roster_position/position',\n",
       " '/american_football/football_team/current_roster./american_football/football_roster_position/position',\n",
       " '/american_football/football_team/current_roster./american_football/football_roster_position/position',\n",
       " '/american_football/football_team/current_roster./american_football/football_roster_position/position',\n",
       " '/american_football/football_team/current_roster./american_football/football_roster_position/position',\n",
       " '/american_football/football_team/current_roster./american_football/football_roster_position/position',\n",
       " '/american_football/football_team/current_roster./american_football/football_roster_position/position',\n",
       " '/american_football/football_team/current_roster./american_football/football_roster_position/position',\n",
       " '/american_football/football_team/current_roster./american_football/football_roster_position/position',\n",
       " '/american_football/football_team/current_roster./american_football/football_roster_position/position',\n",
       " '/american_football/football_team/current_roster./american_football/football_roster_position/position',\n",
       " '/american_football/football_team/current_roster./american_football/football_roster_position/position',\n",
       " '/american_football/football_team/current_roster./american_football/football_roster_position/position',\n",
       " '/american_football/football_team/current_roster./american_football/football_roster_position/position',\n",
       " '/american_football/football_team/current_roster./american_football/football_roster_position/position',\n",
       " '/american_football/football_team/current_roster./american_football/football_roster_position/position',\n",
       " '/american_football/football_team/current_roster./american_football/football_roster_position/position',\n",
       " '/american_football/football_team/current_roster./american_football/football_roster_position/position',\n",
       " '/american_football/football_team/current_roster./american_football/football_roster_position/position',\n",
       " '/american_football/football_team/current_roster./american_football/football_roster_position/position',\n",
       " '/american_football/football_team/current_roster./american_football/football_roster_position/position',\n",
       " '/american_football/football_team/current_roster./american_football/football_roster_position/position',\n",
       " '/american_football/football_team/current_roster./american_football/football_roster_position/position',\n",
       " '/american_football/football_team/current_roster./american_football/football_roster_position/position',\n",
       " '/american_football/football_team/current_roster./american_football/football_roster_position/position',\n",
       " '/american_football/football_team/current_roster./american_football/football_roster_position/position',\n",
       " '/american_football/football_team/current_roster./american_football/football_roster_position/position',\n",
       " '/american_football/football_team/current_roster./american_football/football_roster_position/position',\n",
       " '/american_football/football_team/current_roster./american_football/football_roster_position/position',\n",
       " '/american_football/football_team/current_roster./american_football/football_roster_position/position',\n",
       " '/american_football/football_team/current_roster./american_football/football_roster_position/position',\n",
       " '/american_football/football_team/current_roster./american_football/football_roster_position/position',\n",
       " '/american_football/football_team/current_roster./american_football/football_roster_position/position',\n",
       " '/american_football/football_team/current_roster./american_football/football_roster_position/position',\n",
       " '/american_football/football_team/current_roster./american_football/football_roster_position/position',\n",
       " '/american_football/football_team/current_roster./american_football/football_roster_position/position',\n",
       " '/american_football/football_team/current_roster./american_football/football_roster_position/position',\n",
       " '/american_football/football_team/current_roster./american_football/football_roster_position/position',\n",
       " '/american_football/football_team/current_roster./american_football/football_roster_position/position',\n",
       " '/american_football/football_team/current_roster./american_football/football_roster_position/position',\n",
       " '/american_football/football_team/current_roster./american_football/football_roster_position/position',\n",
       " '/american_football/football_team/current_roster./american_football/football_roster_position/position',\n",
       " '/american_football/football_team/current_roster./american_football/football_roster_position/position',\n",
       " '/american_football/football_team/current_roster./american_football/football_roster_position/position',\n",
       " '/american_football/football_team/current_roster./american_football/football_roster_position/position',\n",
       " '/american_football/football_team/current_roster./american_football/football_roster_position/position',\n",
       " '/american_football/football_team/current_roster./american_football/football_roster_position/position',\n",
       " '/american_football/football_team/current_roster./american_football/football_roster_position/position',\n",
       " '/american_football/football_team/current_roster./american_football/football_roster_position/position',\n",
       " '/american_football/football_team/current_roster./american_football/football_roster_position/position',\n",
       " '/american_football/football_team/current_roster./american_football/football_roster_position/position',\n",
       " '/american_football/football_team/current_roster./american_football/football_roster_position/position',\n",
       " '/american_football/football_team/current_roster./american_football/football_roster_position/position',\n",
       " '/american_football/football_team/current_roster./american_football/football_roster_position/position',\n",
       " '/american_football/football_team/current_roster./american_football/football_roster_position/position',\n",
       " '/american_football/football_team/current_roster./american_football/football_roster_position/position',\n",
       " '/american_football/football_team/current_roster./american_football/football_roster_position/position',\n",
       " '/american_football/football_team/current_roster./american_football/football_roster_position/position',\n",
       " '/american_football/football_team/current_roster./american_football/football_roster_position/position',\n",
       " '/american_football/football_team/current_roster./american_football/football_roster_position/position',\n",
       " '/american_football/football_team/current_roster./american_football/football_roster_position/position',\n",
       " '/american_football/football_team/current_roster./american_football/football_roster_position/position',\n",
       " '/american_football/football_team/current_roster./american_football/football_roster_position/position',\n",
       " '/american_football/football_team/current_roster./american_football/football_roster_position/position',\n",
       " '/american_football/football_team/current_roster./american_football/football_roster_position/position',\n",
       " '/american_football/football_team/current_roster./american_football/football_roster_position/position',\n",
       " '/american_football/football_team/current_roster./american_football/football_roster_position/position',\n",
       " '/american_football/football_team/current_roster./american_football/football_roster_position/position',\n",
       " '/american_football/football_team/current_roster./american_football/football_roster_position/position',\n",
       " '/american_football/football_team/current_roster./american_football/football_roster_position/position',\n",
       " '/american_football/football_team/current_roster./american_football/football_roster_position/position',\n",
       " '/american_football/football_team/current_roster./american_football/football_roster_position/position',\n",
       " '/american_football/football_team/current_roster./american_football/football_roster_position/position',\n",
       " '/american_football/football_team/current_roster./american_football/football_roster_position/position',\n",
       " '/american_football/football_team/current_roster./american_football/football_roster_position/position',\n",
       " '/american_football/football_team/current_roster./american_football/football_roster_position/position',\n",
       " '/american_football/football_team/current_roster./american_football/football_roster_position/position',\n",
       " '/american_football/football_team/current_roster./american_football/football_roster_position/position',\n",
       " '/american_football/football_team/current_roster./american_football/football_roster_position/position',\n",
       " '/american_football/football_team/current_roster./american_football/football_roster_position/position',\n",
       " '/american_football/football_team/current_roster./american_football/football_roster_position/position',\n",
       " '/american_football/football_team/current_roster./american_football/football_roster_position/position',\n",
       " '/american_football/football_team/current_roster./american_football/football_roster_position/position',\n",
       " '/american_football/football_team/current_roster./american_football/football_roster_position/position',\n",
       " '/american_football/football_team/current_roster./american_football/football_roster_position/position',\n",
       " '/american_football/football_team/current_roster./american_football/football_roster_position/position',\n",
       " '/american_football/football_team/current_roster./american_football/football_roster_position/position',\n",
       " '/american_football/football_team/current_roster./american_football/football_roster_position/position',\n",
       " '/american_football/football_team/current_roster./american_football/football_roster_position/position',\n",
       " '/american_football/football_team/current_roster./american_football/football_roster_position/position',\n",
       " '/american_football/football_team/current_roster./american_football/football_roster_position/position',\n",
       " '/american_football/football_team/current_roster./american_football/football_roster_position/position',\n",
       " '/american_football/football_team/current_roster./american_football/football_roster_position/position',\n",
       " '/american_football/football_team/current_roster./american_football/football_roster_position/position',\n",
       " '/american_football/football_team/current_roster./american_football/football_roster_position/position',\n",
       " '/american_football/football_team/current_roster./american_football/football_roster_position/position',\n",
       " '/american_football/football_team/current_roster./american_football/football_roster_position/position',\n",
       " '/american_football/football_team/current_roster./american_football/football_roster_position/position',\n",
       " '/american_football/football_team/current_roster./american_football/football_roster_position/position',\n",
       " '/american_football/football_team/current_roster./american_football/football_roster_position/position',\n",
       " '/american_football/football_team/current_roster./american_football/football_roster_position/position',\n",
       " '/american_football/football_team/current_roster./american_football/football_roster_position/position',\n",
       " '/american_football/football_team/current_roster./american_football/football_roster_position/position',\n",
       " '/american_football/football_team/current_roster./american_football/football_roster_position/position',\n",
       " '/american_football/football_team/current_roster./american_football/football_roster_position/position',\n",
       " '/american_football/football_team/current_roster./american_football/football_roster_position/position',\n",
       " '/american_football/football_team/current_roster./american_football/football_roster_position/position',\n",
       " '/american_football/football_team/current_roster./american_football/football_roster_position/position',\n",
       " '/american_football/football_team/current_roster./american_football/football_roster_position/position',\n",
       " '/american_football/football_team/current_roster./american_football/football_roster_position/position',\n",
       " '/american_football/football_team/current_roster./american_football/football_roster_position/position',\n",
       " '/american_football/football_team/current_roster./american_football/football_roster_position/position',\n",
       " '/american_football/football_team/current_roster./american_football/football_roster_position/position',\n",
       " '/american_football/football_team/current_roster./american_football/football_roster_position/position',\n",
       " '/american_football/football_team/current_roster./american_football/football_roster_position/position',\n",
       " '/american_football/football_team/current_roster./american_football/football_roster_position/position',\n",
       " '/american_football/football_team/current_roster./american_football/football_roster_position/position',\n",
       " '/american_football/football_team/current_roster./american_football/football_roster_position/position',\n",
       " '/american_football/football_team/current_roster./american_football/football_roster_position/position',\n",
       " '/american_football/football_team/current_roster./american_football/football_roster_position/position',\n",
       " '/american_football/football_team/current_roster./american_football/football_roster_position/position',\n",
       " '/american_football/football_team/current_roster./american_football/football_roster_position/position',\n",
       " '/american_football/football_team/current_roster./american_football/football_roster_position/position',\n",
       " '/american_football/football_team/current_roster./american_football/football_roster_position/position',\n",
       " '/american_football/football_team/current_roster./american_football/football_roster_position/position',\n",
       " '/american_football/football_team/current_roster./american_football/football_roster_position/position',\n",
       " '/american_football/football_team/current_roster./american_football/football_roster_position/position',\n",
       " '/american_football/football_team/current_roster./american_football/football_roster_position/position',\n",
       " '/american_football/football_team/current_roster./american_football/football_roster_position/position',\n",
       " '/american_football/football_team/current_roster./american_football/football_roster_position/position',\n",
       " '/american_football/football_team/current_roster./american_football/football_roster_position/position',\n",
       " '/american_football/football_team/current_roster./american_football/football_roster_position/position',\n",
       " '/american_football/football_team/current_roster./american_football/football_roster_position/position',\n",
       " '/american_football/football_team/current_roster./american_football/football_roster_position/position',\n",
       " '/american_football/football_team/current_roster./american_football/football_roster_position/position',\n",
       " '/american_football/football_team/current_roster./american_football/football_roster_position/position',\n",
       " '/american_football/football_team/current_roster./american_football/football_roster_position/position',\n",
       " '/american_football/football_team/current_roster./american_football/football_roster_position/position',\n",
       " '/american_football/football_team/current_roster./american_football/football_roster_position/position',\n",
       " '/american_football/football_team/current_roster./american_football/football_roster_position/position',\n",
       " '/american_football/football_team/current_roster./american_football/football_roster_position/position',\n",
       " '/american_football/football_team/current_roster./american_football/football_roster_position/position',\n",
       " '/american_football/football_team/current_roster./american_football/football_roster_position/position',\n",
       " '/american_football/football_team/current_roster./american_football/football_roster_position/position',\n",
       " '/american_football/football_team/current_roster./american_football/football_roster_position/position',\n",
       " '/american_football/football_team/current_roster./american_football/football_roster_position/position',\n",
       " '/american_football/football_team/current_roster./american_football/football_roster_position/position',\n",
       " '/american_football/football_team/current_roster./american_football/football_roster_position/position',\n",
       " '/american_football/football_team/current_roster./american_football/football_roster_position/position',\n",
       " '/american_football/football_team/current_roster./american_football/football_roster_position/position',\n",
       " '/american_football/football_team/current_roster./american_football/football_roster_position/position',\n",
       " '/american_football/football_team/current_roster./american_football/football_roster_position/position',\n",
       " '/american_football/football_team/current_roster./american_football/football_roster_position/position',\n",
       " '/american_football/football_team/current_roster./american_football/football_roster_position/position',\n",
       " '/american_football/football_team/current_roster./american_football/football_roster_position/position',\n",
       " '/american_football/football_team/current_roster./american_football/football_roster_position/position',\n",
       " '/american_football/football_team/current_roster./american_football/football_roster_position/position',\n",
       " '/american_football/football_team/current_roster./american_football/football_roster_position/position',\n",
       " '/american_football/football_team/current_roster./american_football/football_roster_position/position',\n",
       " ...]"
      ]
     },
     "execution_count": 5,
     "metadata": {},
     "output_type": "execute_result"
    }
   ],
   "source": [
    "rels"
   ]
  },
  {
   "cell_type": "code",
   "execution_count": 6,
   "metadata": {},
   "outputs": [],
   "source": [
    "medicine = []\n",
    "for el in rels:\n",
    "    if (el.startswith(\"/law\")):\n",
    "        medicine.append(el)"
   ]
  },
  {
   "cell_type": "code",
   "execution_count": 7,
   "metadata": {},
   "outputs": [],
   "source": [
    "medicine = list(set(medicine))"
   ]
  },
  {
   "cell_type": "code",
   "execution_count": 8,
   "metadata": {},
   "outputs": [
    {
     "data": {
      "text/plain": [
       "['/law/judge/courts./law/judicial_tenure/court',\n",
       " '/law/invention/inventor',\n",
       " '/law/inventor/inventions',\n",
       " '/law/court/judges./law/judicial_tenure/judge']"
      ]
     },
     "execution_count": 8,
     "metadata": {},
     "output_type": "execute_result"
    }
   ],
   "source": [
    "medicine"
   ]
  },
  {
   "cell_type": "code",
   "execution_count": 9,
   "metadata": {},
   "outputs": [
    {
     "data": {
      "text/plain": [
       "['', 'law', 'judge', 'courts.', 'law', 'judicial_tenure', 'court']"
      ]
     },
     "execution_count": 9,
     "metadata": {},
     "output_type": "execute_result"
    }
   ],
   "source": [
    "medicine[0].split(\"/\")"
   ]
  },
  {
   "cell_type": "code",
   "execution_count": 10,
   "metadata": {},
   "outputs": [],
   "source": [
    "med_dict = {}\n",
    "for entry in medicine:\n",
    "    tokens = entry.split(\"/\")[2:]\n",
    "    if tokens[0] in med_dict:\n",
    "        med_dict[tokens[0]].append(tokens[1])\n",
    "    else:\n",
    "        med_dict[tokens[0]] = [tokens[1]]"
   ]
  },
  {
   "cell_type": "code",
   "execution_count": 11,
   "metadata": {},
   "outputs": [
    {
     "data": {
      "text/plain": [
       "{'judge': ['courts.'],\n",
       " 'invention': ['inventor'],\n",
       " 'inventor': ['inventions'],\n",
       " 'court': ['judges.']}"
      ]
     },
     "execution_count": 11,
     "metadata": {},
     "output_type": "execute_result"
    }
   ],
   "source": [
    "med_dict"
   ]
  },
  {
   "cell_type": "code",
   "execution_count": 12,
   "metadata": {},
   "outputs": [
    {
     "data": {
      "text/plain": [
       "<networkx.classes.digraph.DiGraph at 0x1a802857108>"
      ]
     },
     "execution_count": 12,
     "metadata": {},
     "output_type": "execute_result"
    }
   ],
   "source": [
    "G = nx.DiGraph()\n",
    "\n",
    "#add top level\n",
    "root = \"medicine\"\n",
    "for key in med_dict.keys():\n",
    "    G.add_edge(root, key)\n",
    "    for child in med_dict[key]:\n",
    "        G.add_edge(key, child)\n",
    "G"
   ]
  },
  {
   "cell_type": "code",
   "execution_count": 13,
   "metadata": {},
   "outputs": [
    {
     "data": {
      "image/png": "[encoded data removed]",
      "text/plain": [
       "<Figure size 432x288 with 1 Axes>"
      ]
     },
     "metadata": {},
     "output_type": "display_data"
    }
   ],
   "source": [
    "import networkx as nx\n",
    "\n",
    "\n",
    "pos = nx.spring_layout(G)\n",
    "nx.draw(G, pos, font_size=16, with_labels=False)\n",
    "for p in pos:  # raise text positions\n",
    "    pos[p][1] += 0.1\n",
    "nx.draw_networkx_labels(G, pos)\n",
    "plt.show();"
   ]
  },
  {
   "cell_type": "code",
   "execution_count": 15,
   "metadata": {},
   "outputs": [
    {
     "name": "stdout",
     "output_type": "stream",
     "text": [
      "(483142, 3)\n",
      "(50000, 3)\n",
      "(59071, 3)\n"
     ]
    },
    {
     "data": {
      "text/plain": [
       "(592213, 3)"
      ]
     },
     "execution_count": 15,
     "metadata": {},
     "output_type": "execute_result"
    }
   ],
   "source": [
    "print(train.shape)\n",
    "print(valid.shape)\n",
    "print(test.shape)\n",
    "data.shape"
   ]
  },
  {
   "cell_type": "code",
   "execution_count": 16,
   "metadata": {},
   "outputs": [],
   "source": [
    "subjects = data['subject'].values\n",
    "objects = data['object'].values\n",
    "relations = data['relation'].values"
   ]
  },
  {
   "cell_type": "code",
   "execution_count": 17,
   "metadata": {},
   "outputs": [],
   "source": [
    "# fit entity encoder\n",
    "le_entity = LabelEncoder()\n",
    "le_entity.fit(all_entities)\n",
    "\n",
    "# fit relationship encoder\n",
    "le_relation = LabelEncoder()\n",
    "le_relation.fit(all_relations)\n",
    "\n",
    "# string list to int array using LabelEncoder on complete data set\n",
    "subjects = le_entity.transform(subjects)\n",
    "objects = le_entity.transform(objects)\n",
    "relations = le_relation.transform(relations)\n",
    "\n",
    "# encode subsample (change range to 0-N)\n",
    "le_entity2 = LabelEncoder().fit(np.append(subjects,objects))\n",
    "le_relation2 = LabelEncoder().fit(relations)\n",
    "\n",
    "\n",
    "subjects = le_entity2.transform(subjects)\n",
    "objects = le_entity2.transform(objects)\n",
    "relations = le_relation2.transform(relations)\n",
    "\n",
    "\n",
    "edge_attributes = torch.tensor(relations, dtype=torch.float)\n",
    "edge_index = torch.tensor([subjects, objects], dtype=torch.long)\n",
    "unique_entities = torch.tensor(np.unique(edge_index.reshape(edge_index.shape[-1]*2, 1)), dtype=torch.float)\n",
    "dataset = Data(x=unique_entities, edge_attr=edge_attributes, edge_index=edge_index)"
   ]
  },
  {
   "cell_type": "code",
   "execution_count": 18,
   "metadata": {},
   "outputs": [],
   "source": [
    "from gensim.models import KeyedVectors\n",
    "embedded_nodes =  KeyedVectors.load_word2vec_format('embeddings/node_embedding.kv')"
   ]
  },
  {
   "cell_type": "code",
   "execution_count": 19,
   "metadata": {},
   "outputs": [
    {
     "name": "stdout",
     "output_type": "stream",
     "text": [
      "Data(edge_attr=[592213], edge_index=[2, 592213], x=[14951, 16])\n"
     ]
    }
   ],
   "source": [
    "dataset.x = torch.tensor(embedded_nodes.vectors, dtype=torch.float)\n",
    "print(dataset)"
   ]
  },
  {
   "cell_type": "code",
   "execution_count": 20,
   "metadata": {},
   "outputs": [
    {
     "name": "stdout",
     "output_type": "stream",
     "text": [
      "no. unique relations: 1345\n",
      "no. edge_type size: torch.Size([592213])\n",
      "no. relation size: (592213,)\n",
      "edge_index size: torch.Size([2, 592213])\n",
      "min: 0\n",
      "min: 1344\n"
     ]
    }
   ],
   "source": [
    "data = dataset\n",
    "data.edge_type = torch.LongTensor(relations) #torch.zeros(((data.edge_index.size(-1)),)).long()\n",
    "data.batch = torch.zeros((1, data.num_nodes), dtype=torch.int64).view(-1)\n",
    "data.num_graphs = 1\n",
    "num_features = dataset.x.shape[-1] \n",
    "relation_dimension = len(np.unique(relations))\n",
    "print(f\"no. unique relations: {relation_dimension}\")\n",
    "print(f\"no. edge_type size: {data.edge_type.size()}\")\n",
    "print(f\"no. relation size: {relations.shape}\")\n",
    "print(f\"edge_index size: {data.edge_index.size()}\")\n",
    "print(f\"min: {np.min(relations)}\")\n",
    "print(f\"min: {np.max(relations)}\")"
   ]
  },
  {
   "cell_type": "code",
   "execution_count": 70,
   "metadata": {},
   "outputs": [],
   "source": [
    "def load():\n",
    "    # Read data and make dataframes\n",
    "    name = ['entity', 'id']\n",
    "    entity_id = pd.read_csv('./data/FB15k/entities.txt', sep='\\t', header=None, names=name, engine='python')\n",
    "    all_entities = entity_id['entity'].values\n",
    "\n",
    "    name = ['relation', 'id']\n",
    "    relation_id = pd.read_csv('./data/FB15k/relations.txt', sep='\\t', header=None, names=name, engine='python')\n",
    "    all_relations = relation_id['relation'].values\n",
    "\n",
    "    # Read RDF Triples\n",
    "    # Read RDF Triples\n",
    "    name = ['head', 'relation', 'tail']\n",
    "    # concat all data \n",
    "    train = pd.read_csv('./data/FB15k/train.txt', sep='\\t', header=None, names=name, engine='python')\n",
    "    valid = pd.read_csv('./data/FB15k/valid.txt', sep='\\t', header=None, names=name, engine='python')\n",
    "    test = pd.read_csv('./data/FB15k/test.txt', sep='\\t', header=None, names=name, engine='python')\n",
    "    data = pd.concat([train, valid])\n",
    "    data = pd.concat([data, test])\n",
    "\n",
    "    head = data['head'].values\n",
    "    tail = data['tail'].values\n",
    "    relations = data['relation'].values\n",
    "    \n",
    "    # fit entity encoder\n",
    "    le_entity = LabelEncoder()\n",
    "    le_entity.fit(all_entities)\n",
    "\n",
    "    # fit relationship encoder\n",
    "    le_relation = LabelEncoder()\n",
    "    le_relation.fit(all_relations.reshape(-1, 1))\n",
    "\n",
    "    # string list to int array using LabelEncoder on complete data set\n",
    "    heads = le_entity.transform(head)\n",
    "    tails = le_entity.transform(tail)\n",
    "    relations = le_relation.transform(relations)\n",
    "    all_relations = le_relation.transform(all_relations.reshape(-1, 1))\n",
    "    \n",
    "    edge_attributes = torch.tensor(relations, dtype=torch.long)\n",
    "    edge_index = torch.tensor([heads, tails], dtype=torch.long)\n",
    "    unique_entities = torch.tensor(np.unique(edge_index.reshape(edge_index.shape[-1]*2, 1)), dtype=torch.float)\n",
    "\n",
    "    dataset =  Data(x=unique_entities, edge_type=edge_attributes, edge_index=edge_index)\n",
    "    \n",
    "    from gensim.models import KeyedVectors\n",
    "    embedded_nodes =  KeyedVectors.load_word2vec_format('embeddings/node_embedding.kv')\n",
    "    dataset.x = torch.tensor(embedded_nodes.vectors, dtype=torch.float)\n",
    "    print(dataset)\n",
    "    \n",
    "    data = dataset\n",
    "    data.edge_type = torch.LongTensor(relations) #torch.zeros(((data.edge_index.size(-1)),)).long()\n",
    "    data.batch = torch.zeros((1, data.num_nodes), dtype=torch.int64).view(-1)\n",
    "    data.num_graphs = 1\n",
    "    num_features = dataset.x.shape[-1] \n",
    "    relation_dimension = len(np.unique(relations))\n",
    "    print(f\"no. unique relations: {relation_dimension}\")\n",
    "    print(f\"no. edge_type size: {data.edge_type.size()}\")\n",
    "    print(f\"no. relation size: {relations.shape}\")\n",
    "    print(f\"edge_index size: {data.edge_index.size()}\")\n",
    "    print(f\"min: {np.min(relations)}\")\n",
    "    print(f\"min: {np.max(relations)}\")\n",
    "    return data, le_entity, le_entity2, le_relation, le_relation2"
   ]
  },
  {
   "cell_type": "code",
   "execution_count": 67,
   "metadata": {},
   "outputs": [],
   "source": [
    "def inverse_transform(sub, obj, rel):\n",
    "    sub = le_entity.inverse_transform(le_entity2.inverse_transform([sub]))\n",
    "    obj = le_entity.inverse_transform(le_entity2.inverse_transform([obj]))\n",
    "    rel = le_relation.inverse_transform(le_relation2.inverse_transform([rel]))\n",
    "    return sub[0], obj[0], rel[0]"
   ]
  },
  {
   "cell_type": "code",
   "execution_count": 68,
   "metadata": {},
   "outputs": [
    {
     "ename": "AttributeError",
     "evalue": "'DataFrame' object has no attribute 'edge_index'",
     "output_type": "error",
     "traceback": [
      "\u001b[1;31m---------------------------------------------------------------------------\u001b[0m",
      "\u001b[1;31mAttributeError\u001b[0m                            Traceback (most recent call last)",
      "\u001b[1;32m<ipython-input-68-9c5b6c4f5fcd>\u001b[0m in \u001b[0;36m<module>\u001b[1;34m\u001b[0m\n\u001b[1;32m----> 1\u001b[1;33m \u001b[0minverse_transform\u001b[0m\u001b[1;33m(\u001b[0m\u001b[0mdata\u001b[0m\u001b[1;33m.\u001b[0m\u001b[0medge_index\u001b[0m\u001b[1;33m[\u001b[0m\u001b[1;36m0\u001b[0m\u001b[1;33m]\u001b[0m\u001b[1;33m[\u001b[0m\u001b[1;36m0\u001b[0m\u001b[1;33m]\u001b[0m\u001b[1;33m,\u001b[0m \u001b[0mdata\u001b[0m\u001b[1;33m.\u001b[0m\u001b[0medge_index\u001b[0m\u001b[1;33m[\u001b[0m\u001b[1;36m1\u001b[0m\u001b[1;33m]\u001b[0m\u001b[1;33m[\u001b[0m\u001b[1;36m0\u001b[0m\u001b[1;33m]\u001b[0m\u001b[1;33m,\u001b[0m \u001b[0mdata\u001b[0m\u001b[1;33m.\u001b[0m\u001b[0medge_type\u001b[0m\u001b[1;33m[\u001b[0m\u001b[1;36m0\u001b[0m\u001b[1;33m]\u001b[0m\u001b[1;33m)\u001b[0m\u001b[1;33m\u001b[0m\u001b[1;33m\u001b[0m\u001b[0m\n\u001b[0m",
      "\u001b[1;32mc:\\users\\oddgu\\programmering\\multirelational-graphstar\\env\\lib\\site-packages\\pandas\\core\\generic.py\u001b[0m in \u001b[0;36m__getattr__\u001b[1;34m(self, name)\u001b[0m\n\u001b[0;32m   5065\u001b[0m             \u001b[1;32mif\u001b[0m \u001b[0mself\u001b[0m\u001b[1;33m.\u001b[0m\u001b[0m_info_axis\u001b[0m\u001b[1;33m.\u001b[0m\u001b[0m_can_hold_identifiers_and_holds_name\u001b[0m\u001b[1;33m(\u001b[0m\u001b[0mname\u001b[0m\u001b[1;33m)\u001b[0m\u001b[1;33m:\u001b[0m\u001b[1;33m\u001b[0m\u001b[1;33m\u001b[0m\u001b[0m\n\u001b[0;32m   5066\u001b[0m                 \u001b[1;32mreturn\u001b[0m \u001b[0mself\u001b[0m\u001b[1;33m[\u001b[0m\u001b[0mname\u001b[0m\u001b[1;33m]\u001b[0m\u001b[1;33m\u001b[0m\u001b[1;33m\u001b[0m\u001b[0m\n\u001b[1;32m-> 5067\u001b[1;33m             \u001b[1;32mreturn\u001b[0m \u001b[0mobject\u001b[0m\u001b[1;33m.\u001b[0m\u001b[0m__getattribute__\u001b[0m\u001b[1;33m(\u001b[0m\u001b[0mself\u001b[0m\u001b[1;33m,\u001b[0m \u001b[0mname\u001b[0m\u001b[1;33m)\u001b[0m\u001b[1;33m\u001b[0m\u001b[1;33m\u001b[0m\u001b[0m\n\u001b[0m\u001b[0;32m   5068\u001b[0m \u001b[1;33m\u001b[0m\u001b[0m\n\u001b[0;32m   5069\u001b[0m     \u001b[1;32mdef\u001b[0m \u001b[0m__setattr__\u001b[0m\u001b[1;33m(\u001b[0m\u001b[0mself\u001b[0m\u001b[1;33m,\u001b[0m \u001b[0mname\u001b[0m\u001b[1;33m,\u001b[0m \u001b[0mvalue\u001b[0m\u001b[1;33m)\u001b[0m\u001b[1;33m:\u001b[0m\u001b[1;33m\u001b[0m\u001b[1;33m\u001b[0m\u001b[0m\n",
      "\u001b[1;31mAttributeError\u001b[0m: 'DataFrame' object has no attribute 'edge_index'"
     ]
    }
   ],
   "source": [
    "inverse_transform(data.edge_index[0][0], data.edge_index[1][0], data.edge_type[0])"
   ]
  },
  {
   "cell_type": "code",
   "execution_count": 24,
   "metadata": {},
   "outputs": [],
   "source": [
    "label_dict ={}\n",
    "for n1, n2, ys in zip(data.edge_index[0], data.edge_index[1], data.edge_type):\n",
    "    label_dict[int(n1), int(n2)] = int(ys)"
   ]
  },
  {
   "cell_type": "code",
   "execution_count": 25,
   "metadata": {},
   "outputs": [],
   "source": [
    "def visualize(h, epoch=None, loss=None):\n",
    "    plt.figure(figsize=(7,7))\n",
    "    plt.xticks([])\n",
    "    plt.yticks([])\n",
    "\n",
    "    if torch.is_tensor(h):\n",
    "        h = h.detach().cpu().numpy()\n",
    "        plt.scatter(h[:, 0], h[:, 1], s=140, c=color, cmap=\"Set2\")\n",
    "        if epoch is not None and loss is not None:\n",
    "            plt.xlabel(f'Epoch: {epoch}, Loss: {loss.item():.4f}', fontsize=16)\n",
    "    else:\n",
    "        nx.draw_networkx(h, pos=nx.spring_layout(h, seed=42), with_labels=True,\n",
    "                          cmap=\"Set2\")\n",
    "        nx.draw_networkx_edge_labels(h, pos=nx.spring_layout(h, seed=42), edge_labels=label_dict, cmap=\"Set2\")\n",
    "    plt.show()"
   ]
  },
  {
   "cell_type": "code",
   "execution_count": 26,
   "metadata": {},
   "outputs": [
    {
     "ename": "AttributeError",
     "evalue": "'int' object has no attribute 'squeeze'",
     "output_type": "error",
     "traceback": [
      "\u001b[1;31m---------------------------------------------------------------------------\u001b[0m",
      "\u001b[1;31mAttributeError\u001b[0m                            Traceback (most recent call last)",
      "\u001b[1;32m<ipython-input-26-fafb7c00f946>\u001b[0m in \u001b[0;36m<module>\u001b[1;34m\u001b[0m\n\u001b[0;32m      1\u001b[0m \u001b[1;32mfrom\u001b[0m \u001b[0mtorch_geometric\u001b[0m\u001b[1;33m.\u001b[0m\u001b[0mutils\u001b[0m \u001b[1;32mimport\u001b[0m \u001b[0mto_networkx\u001b[0m\u001b[1;33m\u001b[0m\u001b[1;33m\u001b[0m\u001b[0m\n\u001b[1;32m----> 2\u001b[1;33m \u001b[0mG\u001b[0m \u001b[1;33m=\u001b[0m \u001b[0mto_networkx\u001b[0m\u001b[1;33m(\u001b[0m\u001b[0mdataset\u001b[0m\u001b[1;33m)\u001b[0m\u001b[1;33m\u001b[0m\u001b[1;33m\u001b[0m\u001b[0m\n\u001b[0m",
      "\u001b[1;32mc:\\users\\oddgu\\programmering\\multirelational-graphstar\\env\\lib\\site-packages\\torch_geometric\\utils\\convert.py\u001b[0m in \u001b[0;36mto_networkx\u001b[1;34m(data, node_attrs, edge_attrs)\u001b[0m\n\u001b[0;32m     65\u001b[0m     \u001b[0mG\u001b[0m\u001b[1;33m.\u001b[0m\u001b[0madd_nodes_from\u001b[0m\u001b[1;33m(\u001b[0m\u001b[0mrange\u001b[0m\u001b[1;33m(\u001b[0m\u001b[0mdata\u001b[0m\u001b[1;33m.\u001b[0m\u001b[0mnum_nodes\u001b[0m\u001b[1;33m)\u001b[0m\u001b[1;33m)\u001b[0m\u001b[1;33m\u001b[0m\u001b[1;33m\u001b[0m\u001b[0m\n\u001b[0;32m     66\u001b[0m \u001b[1;33m\u001b[0m\u001b[0m\n\u001b[1;32m---> 67\u001b[1;33m     \u001b[0mvalues\u001b[0m \u001b[1;33m=\u001b[0m \u001b[1;33m{\u001b[0m\u001b[0mkey\u001b[0m\u001b[1;33m:\u001b[0m \u001b[0mdata\u001b[0m\u001b[1;33m[\u001b[0m\u001b[0mkey\u001b[0m\u001b[1;33m]\u001b[0m\u001b[1;33m.\u001b[0m\u001b[0msqueeze\u001b[0m\u001b[1;33m(\u001b[0m\u001b[1;33m)\u001b[0m\u001b[1;33m.\u001b[0m\u001b[0mtolist\u001b[0m\u001b[1;33m(\u001b[0m\u001b[1;33m)\u001b[0m \u001b[1;32mfor\u001b[0m \u001b[0mkey\u001b[0m \u001b[1;32min\u001b[0m \u001b[0mdata\u001b[0m\u001b[1;33m.\u001b[0m\u001b[0mkeys\u001b[0m\u001b[1;33m}\u001b[0m\u001b[1;33m\u001b[0m\u001b[1;33m\u001b[0m\u001b[0m\n\u001b[0m\u001b[0;32m     68\u001b[0m \u001b[1;33m\u001b[0m\u001b[0m\n\u001b[0;32m     69\u001b[0m     \u001b[1;32mfor\u001b[0m \u001b[0mi\u001b[0m\u001b[1;33m,\u001b[0m \u001b[1;33m(\u001b[0m\u001b[0mu\u001b[0m\u001b[1;33m,\u001b[0m \u001b[0mv\u001b[0m\u001b[1;33m)\u001b[0m \u001b[1;32min\u001b[0m \u001b[0menumerate\u001b[0m\u001b[1;33m(\u001b[0m\u001b[0mdata\u001b[0m\u001b[1;33m.\u001b[0m\u001b[0medge_index\u001b[0m\u001b[1;33m.\u001b[0m\u001b[0mt\u001b[0m\u001b[1;33m(\u001b[0m\u001b[1;33m)\u001b[0m\u001b[1;33m.\u001b[0m\u001b[0mtolist\u001b[0m\u001b[1;33m(\u001b[0m\u001b[1;33m)\u001b[0m\u001b[1;33m)\u001b[0m\u001b[1;33m:\u001b[0m\u001b[1;33m\u001b[0m\u001b[1;33m\u001b[0m\u001b[0m\n",
      "\u001b[1;32mc:\\users\\oddgu\\programmering\\multirelational-graphstar\\env\\lib\\site-packages\\torch_geometric\\utils\\convert.py\u001b[0m in \u001b[0;36m<dictcomp>\u001b[1;34m(.0)\u001b[0m\n\u001b[0;32m     65\u001b[0m     \u001b[0mG\u001b[0m\u001b[1;33m.\u001b[0m\u001b[0madd_nodes_from\u001b[0m\u001b[1;33m(\u001b[0m\u001b[0mrange\u001b[0m\u001b[1;33m(\u001b[0m\u001b[0mdata\u001b[0m\u001b[1;33m.\u001b[0m\u001b[0mnum_nodes\u001b[0m\u001b[1;33m)\u001b[0m\u001b[1;33m)\u001b[0m\u001b[1;33m\u001b[0m\u001b[1;33m\u001b[0m\u001b[0m\n\u001b[0;32m     66\u001b[0m \u001b[1;33m\u001b[0m\u001b[0m\n\u001b[1;32m---> 67\u001b[1;33m     \u001b[0mvalues\u001b[0m \u001b[1;33m=\u001b[0m \u001b[1;33m{\u001b[0m\u001b[0mkey\u001b[0m\u001b[1;33m:\u001b[0m \u001b[0mdata\u001b[0m\u001b[1;33m[\u001b[0m\u001b[0mkey\u001b[0m\u001b[1;33m]\u001b[0m\u001b[1;33m.\u001b[0m\u001b[0msqueeze\u001b[0m\u001b[1;33m(\u001b[0m\u001b[1;33m)\u001b[0m\u001b[1;33m.\u001b[0m\u001b[0mtolist\u001b[0m\u001b[1;33m(\u001b[0m\u001b[1;33m)\u001b[0m \u001b[1;32mfor\u001b[0m \u001b[0mkey\u001b[0m \u001b[1;32min\u001b[0m \u001b[0mdata\u001b[0m\u001b[1;33m.\u001b[0m\u001b[0mkeys\u001b[0m\u001b[1;33m}\u001b[0m\u001b[1;33m\u001b[0m\u001b[1;33m\u001b[0m\u001b[0m\n\u001b[0m\u001b[0;32m     68\u001b[0m \u001b[1;33m\u001b[0m\u001b[0m\n\u001b[0;32m     69\u001b[0m     \u001b[1;32mfor\u001b[0m \u001b[0mi\u001b[0m\u001b[1;33m,\u001b[0m \u001b[1;33m(\u001b[0m\u001b[0mu\u001b[0m\u001b[1;33m,\u001b[0m \u001b[0mv\u001b[0m\u001b[1;33m)\u001b[0m \u001b[1;32min\u001b[0m \u001b[0menumerate\u001b[0m\u001b[1;33m(\u001b[0m\u001b[0mdata\u001b[0m\u001b[1;33m.\u001b[0m\u001b[0medge_index\u001b[0m\u001b[1;33m.\u001b[0m\u001b[0mt\u001b[0m\u001b[1;33m(\u001b[0m\u001b[1;33m)\u001b[0m\u001b[1;33m.\u001b[0m\u001b[0mtolist\u001b[0m\u001b[1;33m(\u001b[0m\u001b[1;33m)\u001b[0m\u001b[1;33m)\u001b[0m\u001b[1;33m:\u001b[0m\u001b[1;33m\u001b[0m\u001b[1;33m\u001b[0m\u001b[0m\n",
      "\u001b[1;31mAttributeError\u001b[0m: 'int' object has no attribute 'squeeze'"
     ]
    }
   ],
   "source": [
    "from torch_geometric.utils import to_networkx\n",
    "G = to_networkx(dataset)"
   ]
  },
  {
   "cell_type": "code",
   "execution_count": null,
   "metadata": {},
   "outputs": [],
   "source": [
    "print(G.number_of_nodes())\n",
    "print(dataset.num_nodes)"
   ]
  },
  {
   "cell_type": "code",
   "execution_count": null,
   "metadata": {
    "scrolled": true
   },
   "outputs": [],
   "source": [
    "%matplotlib notebook\n",
    "if len(unique_entities) > 200:\n",
    "    print(\"you should probably not visualize huge node networks\")\n",
    "else:\n",
    "    visualize(G) "
   ]
  },
  {
   "cell_type": "code",
   "execution_count": 34,
   "metadata": {},
   "outputs": [],
   "source": [
    "#!pip install sparqlwrapper\n",
    "# https://rdflib.github.io/sparqlwrapper/\n",
    "\n",
    "import sys\n",
    "from SPARQLWrapper import SPARQLWrapper, JSON\n",
    "\n",
    "def get_results(endpoint_url, query):\n",
    "    user_agent = \"WDQS-example Python/%s.%s\" % (sys.version_info[0], sys.version_info[1])\n",
    "    sparql = SPARQLWrapper(endpoint_url, agent=user_agent)\n",
    "    sparql.setQuery(query)\n",
    "    sparql.setReturnFormat(JSON)\n",
    "    return sparql.query().convert()\n",
    "\n",
    "def freebase_parser(freebase_id):\n",
    "    endpoint_url = \"https://query.wikidata.org/sparql\"\n",
    "\n",
    "    query = \\\n",
    "    '''SELECT ?sLabel WHERE { \n",
    "        ?s wdt:P646 \"''' + freebase_id + '''\".\n",
    "        SERVICE wikibase:label { bd:serviceParam wikibase:language \"en\". }\n",
    "    }\n",
    "    LIMIT 1'''\n",
    "    res = get_results(endpoint_url, query)\n",
    "    if len(res['results']['bindings']) == 0:\n",
    "        return \"No result\"\n",
    "    else:\n",
    "        return get_results(endpoint_url, query)['results']['bindings'][0]['sLabel']['value']\n",
    "    \n",
    "def rdf2txt(sub, obj, rel):\n",
    "    sub, obj, rel = inverse_transform(sub,obj,rel)\n",
    "    sub = freebase_parser(sub)\n",
    "    obj = freebase_parser(obj)\n",
    "    return sub, obj, str(rel)"
   ]
  },
  {
   "cell_type": "code",
   "execution_count": 35,
   "metadata": {},
   "outputs": [],
   "source": [
    "def rdf2txt(sub, obj, rel):\n",
    "    sub, obj, rel = inverse_transform(sub,obj,rel)\n",
    "    sub = freebase_parser(sub)\n",
    "    obj = freebase_parser(obj)\n",
    "    return sub, obj, str(rel)"
   ]
  },
  {
   "cell_type": "code",
   "execution_count": 36,
   "metadata": {},
   "outputs": [
    {
     "data": {
      "text/plain": [
       "('Morgantown',\n",
       " 'Marshall',\n",
       " '/architecture/structure/owner./architecture/ownership/owner')"
      ]
     },
     "execution_count": 36,
     "metadata": {},
     "output_type": "execute_result"
    }
   ],
   "source": [
    "rdf2txt(23, 2, 46)"
   ]
  },
  {
   "cell_type": "code",
   "execution_count": 42,
   "metadata": {},
   "outputs": [
    {
     "data": {
      "text/plain": [
       "<networkx.classes.digraph.DiGraph at 0x1a8029754c8>"
      ]
     },
     "execution_count": 42,
     "metadata": {},
     "output_type": "execute_result"
    }
   ],
   "source": [
    "G"
   ]
  },
  {
   "cell_type": "markdown",
   "metadata": {},
   "source": [
    "## Node2Vec"
   ]
  },
  {
   "cell_type": "code",
   "execution_count": 37,
   "metadata": {},
   "outputs": [
    {
     "name": "stderr",
     "output_type": "stream",
     "text": [
      "Computing transition probabilities: 100%|███████████████████████| 16/16 [00:00<00:00, 16085.54it/s]\n",
      "Generating walks (CPU: 1): 100%|█████████████████████████████████| 20/20 [00:00<00:00, 1176.77it/s]\n"
     ]
    }
   ],
   "source": [
    "# Precompute probabilities and generate walks - **ON WINDOWS ONLY WORKS WITH workers=1**\n",
    "node2vec = Node2Vec(G, dimensions=16, walk_length=15, num_walks=20, workers=1)  # Use temp_folder for big graphs"
   ]
  },
  {
   "cell_type": "code",
   "execution_count": 38,
   "metadata": {},
   "outputs": [],
   "source": [
    "# Embed nodes\n",
    "model = node2vec.fit(window=10, min_count=1, batch_words=4)  \n",
    "# Any keywords acceptable by gensim.Word2Vec can be passed, \n",
    "# `dimensions` and `workers` are automatically passed\n",
    "# (from the Node2Vec constructor)"
   ]
  },
  {
   "cell_type": "code",
   "execution_count": 39,
   "metadata": {},
   "outputs": [],
   "source": [
    "def node2Text(node_id):\n",
    "    freebase_id = le_entity.inverse_transform(le_entity2.inverse_transform([node_id]))\n",
    "    return freebase_parser(freebase_id[0])"
   ]
  },
  {
   "cell_type": "code",
   "execution_count": 40,
   "metadata": {},
   "outputs": [
    {
     "name": "stdout",
     "output_type": "stream",
     "text": [
      "Most similar Nodes to Marshall\n"
     ]
    },
    {
     "ename": "KeyError",
     "evalue": "\"word '2' not in vocabulary\"",
     "output_type": "error",
     "traceback": [
      "\u001b[1;31m---------------------------------------------------------------------------\u001b[0m",
      "\u001b[1;31mKeyError\u001b[0m                                  Traceback (most recent call last)",
      "\u001b[1;32m<ipython-input-40-09a10bacbb2c>\u001b[0m in \u001b[0;36m<module>\u001b[1;34m\u001b[0m\n\u001b[0;32m      2\u001b[0m \u001b[0mNODE_ID\u001b[0m \u001b[1;33m=\u001b[0m \u001b[1;34m'2'\u001b[0m\u001b[1;33m\u001b[0m\u001b[1;33m\u001b[0m\u001b[0m\n\u001b[0;32m      3\u001b[0m \u001b[0mprint\u001b[0m\u001b[1;33m(\u001b[0m\u001b[1;34mf\"Most similar Nodes to {node2Text(int(NODE_ID))}\"\u001b[0m\u001b[1;33m)\u001b[0m\u001b[1;33m\u001b[0m\u001b[1;33m\u001b[0m\u001b[0m\n\u001b[1;32m----> 4\u001b[1;33m \u001b[1;32mfor\u001b[0m \u001b[0mnode\u001b[0m \u001b[1;32min\u001b[0m \u001b[0mmodel\u001b[0m\u001b[1;33m.\u001b[0m\u001b[0mwv\u001b[0m\u001b[1;33m.\u001b[0m\u001b[0mmost_similar\u001b[0m\u001b[1;33m(\u001b[0m\u001b[0mNODE_ID\u001b[0m\u001b[1;33m)\u001b[0m\u001b[1;33m:\u001b[0m\u001b[1;33m\u001b[0m\u001b[1;33m\u001b[0m\u001b[0m\n\u001b[0m\u001b[0;32m      5\u001b[0m     \u001b[0msim_node_id\u001b[0m\u001b[1;33m,\u001b[0m \u001b[0mpercentage\u001b[0m \u001b[1;33m=\u001b[0m \u001b[0mnode\u001b[0m\u001b[1;33m\u001b[0m\u001b[1;33m\u001b[0m\u001b[0m\n\u001b[0;32m      6\u001b[0m     \u001b[0mprint\u001b[0m\u001b[1;33m(\u001b[0m\u001b[0mnode2Text\u001b[0m\u001b[1;33m(\u001b[0m\u001b[0mint\u001b[0m\u001b[1;33m(\u001b[0m\u001b[0msim_node_id\u001b[0m\u001b[1;33m)\u001b[0m\u001b[1;33m)\u001b[0m\u001b[1;33m,\u001b[0m \u001b[0mpercentage\u001b[0m\u001b[1;33m)\u001b[0m\u001b[1;33m\u001b[0m\u001b[1;33m\u001b[0m\u001b[0m\n",
      "\u001b[1;32mc:\\users\\oddgu\\programmering\\multirelational-graphstar\\env\\lib\\site-packages\\gensim\\models\\keyedvectors.py\u001b[0m in \u001b[0;36mmost_similar\u001b[1;34m(self, positive, negative, topn, restrict_vocab, indexer)\u001b[0m\n\u001b[0;32m    551\u001b[0m                 \u001b[0mmean\u001b[0m\u001b[1;33m.\u001b[0m\u001b[0mappend\u001b[0m\u001b[1;33m(\u001b[0m\u001b[0mweight\u001b[0m \u001b[1;33m*\u001b[0m \u001b[0mword\u001b[0m\u001b[1;33m)\u001b[0m\u001b[1;33m\u001b[0m\u001b[1;33m\u001b[0m\u001b[0m\n\u001b[0;32m    552\u001b[0m             \u001b[1;32melse\u001b[0m\u001b[1;33m:\u001b[0m\u001b[1;33m\u001b[0m\u001b[1;33m\u001b[0m\u001b[0m\n\u001b[1;32m--> 553\u001b[1;33m                 \u001b[0mmean\u001b[0m\u001b[1;33m.\u001b[0m\u001b[0mappend\u001b[0m\u001b[1;33m(\u001b[0m\u001b[0mweight\u001b[0m \u001b[1;33m*\u001b[0m \u001b[0mself\u001b[0m\u001b[1;33m.\u001b[0m\u001b[0mword_vec\u001b[0m\u001b[1;33m(\u001b[0m\u001b[0mword\u001b[0m\u001b[1;33m,\u001b[0m \u001b[0muse_norm\u001b[0m\u001b[1;33m=\u001b[0m\u001b[1;32mTrue\u001b[0m\u001b[1;33m)\u001b[0m\u001b[1;33m)\u001b[0m\u001b[1;33m\u001b[0m\u001b[1;33m\u001b[0m\u001b[0m\n\u001b[0m\u001b[0;32m    554\u001b[0m                 \u001b[1;32mif\u001b[0m \u001b[0mword\u001b[0m \u001b[1;32min\u001b[0m \u001b[0mself\u001b[0m\u001b[1;33m.\u001b[0m\u001b[0mvocab\u001b[0m\u001b[1;33m:\u001b[0m\u001b[1;33m\u001b[0m\u001b[1;33m\u001b[0m\u001b[0m\n\u001b[0;32m    555\u001b[0m                     \u001b[0mall_words\u001b[0m\u001b[1;33m.\u001b[0m\u001b[0madd\u001b[0m\u001b[1;33m(\u001b[0m\u001b[0mself\u001b[0m\u001b[1;33m.\u001b[0m\u001b[0mvocab\u001b[0m\u001b[1;33m[\u001b[0m\u001b[0mword\u001b[0m\u001b[1;33m]\u001b[0m\u001b[1;33m.\u001b[0m\u001b[0mindex\u001b[0m\u001b[1;33m)\u001b[0m\u001b[1;33m\u001b[0m\u001b[1;33m\u001b[0m\u001b[0m\n",
      "\u001b[1;32mc:\\users\\oddgu\\programmering\\multirelational-graphstar\\env\\lib\\site-packages\\gensim\\models\\keyedvectors.py\u001b[0m in \u001b[0;36mword_vec\u001b[1;34m(self, word, use_norm)\u001b[0m\n\u001b[0;32m    466\u001b[0m             \u001b[1;32mreturn\u001b[0m \u001b[0mresult\u001b[0m\u001b[1;33m\u001b[0m\u001b[1;33m\u001b[0m\u001b[0m\n\u001b[0;32m    467\u001b[0m         \u001b[1;32melse\u001b[0m\u001b[1;33m:\u001b[0m\u001b[1;33m\u001b[0m\u001b[1;33m\u001b[0m\u001b[0m\n\u001b[1;32m--> 468\u001b[1;33m             \u001b[1;32mraise\u001b[0m \u001b[0mKeyError\u001b[0m\u001b[1;33m(\u001b[0m\u001b[1;34m\"word '%s' not in vocabulary\"\u001b[0m \u001b[1;33m%\u001b[0m \u001b[0mword\u001b[0m\u001b[1;33m)\u001b[0m\u001b[1;33m\u001b[0m\u001b[1;33m\u001b[0m\u001b[0m\n\u001b[0m\u001b[0;32m    469\u001b[0m \u001b[1;33m\u001b[0m\u001b[0m\n\u001b[0;32m    470\u001b[0m     \u001b[1;32mdef\u001b[0m \u001b[0mget_vector\u001b[0m\u001b[1;33m(\u001b[0m\u001b[0mself\u001b[0m\u001b[1;33m,\u001b[0m \u001b[0mword\u001b[0m\u001b[1;33m)\u001b[0m\u001b[1;33m:\u001b[0m\u001b[1;33m\u001b[0m\u001b[1;33m\u001b[0m\u001b[0m\n",
      "\u001b[1;31mKeyError\u001b[0m: \"word '2' not in vocabulary\""
     ]
    }
   ],
   "source": [
    "# Look for most similar nodes\n",
    "NODE_ID = '2'\n",
    "print(f\"Most similar Nodes to {node2Text(int(NODE_ID))}\")\n",
    "for node in model.wv.most_similar(NODE_ID):\n",
    "    sim_node_id, percentage = node\n",
    "    print(node2Text(int(sim_node_id)), percentage) "
   ]
  },
  {
   "cell_type": "code",
   "execution_count": null,
   "metadata": {},
   "outputs": [],
   "source": [
    "# Save embeddings for later use\n",
    "import os\n",
    "PATH = 'embeddings'\n",
    "NODE_EMBEDDING_NAME = \"node_embedding\"\n",
    "EMBEDDING_MODEL_NAME = \"node_embedding_model\"\n",
    "if not os.path.exists(PATH):\n",
    "    os.mkdir(PATH)\n",
    "model.wv.save_word2vec_format(os.path.join(PATH, NODE_EMBEDDING_NAME + \".kv\"))"
   ]
  },
  {
   "cell_type": "code",
   "execution_count": 41,
   "metadata": {},
   "outputs": [
    {
     "ename": "NameError",
     "evalue": "name 'os' is not defined",
     "output_type": "error",
     "traceback": [
      "\u001b[1;31m---------------------------------------------------------------------------\u001b[0m",
      "\u001b[1;31mNameError\u001b[0m                                 Traceback (most recent call last)",
      "\u001b[1;32m<ipython-input-41-645ed12208b5>\u001b[0m in \u001b[0;36m<module>\u001b[1;34m\u001b[0m\n\u001b[0;32m      1\u001b[0m \u001b[1;31m# Save model for later use\u001b[0m\u001b[1;33m\u001b[0m\u001b[1;33m\u001b[0m\u001b[1;33m\u001b[0m\u001b[0m\n\u001b[1;32m----> 2\u001b[1;33m \u001b[0mmodel\u001b[0m\u001b[1;33m.\u001b[0m\u001b[0msave\u001b[0m\u001b[1;33m(\u001b[0m\u001b[0mos\u001b[0m\u001b[1;33m.\u001b[0m\u001b[0mpath\u001b[0m\u001b[1;33m.\u001b[0m\u001b[0mjoin\u001b[0m\u001b[1;33m(\u001b[0m\u001b[0mPATH\u001b[0m\u001b[1;33m,\u001b[0m \u001b[0mEMBEDDING_MODEL_NAME\u001b[0m \u001b[1;33m+\u001b[0m \u001b[1;34m\".pkl\"\u001b[0m\u001b[1;33m)\u001b[0m\u001b[1;33m)\u001b[0m\u001b[1;33m\u001b[0m\u001b[1;33m\u001b[0m\u001b[0m\n\u001b[0m",
      "\u001b[1;31mNameError\u001b[0m: name 'os' is not defined"
     ]
    }
   ],
   "source": [
    "# Save model for later use\n",
    "model.save(os.path.join(PATH, EMBEDDING_MODEL_NAME + \".pkl\"))"
   ]
  },
  {
   "cell_type": "code",
   "execution_count": null,
   "metadata": {},
   "outputs": [],
   "source": [
    "from gensim.models import KeyedVectors\n",
    "embedded_nodes =  KeyedVectors.load_word2vec_format('embeddings/node_embedding.kv')\n"
   ]
  },
  {
   "cell_type": "code",
   "execution_count": null,
   "metadata": {},
   "outputs": [],
   "source": [
    "# Load embeddings \n",
    "embeddings = model.wv.load_word2vec_format(os.path.join(PATH, NODE_EMBEDDING_NAME + \".kv\"))\n",
    "embedded_model = model.wv.load(os.path.join(PATH, EMBEDDING_MODEL_NAME + \".pkl\"))"
   ]
  },
  {
   "cell_type": "code",
   "execution_count": null,
   "metadata": {},
   "outputs": [],
   "source": [
    "# Look for most similar nodes\n",
    "NODE_ID = '2'\n",
    "print(f\"Most similar Nodes to {node2Text(int(NODE_ID))}\")\n",
    "for node in embedded_model.wv.most_similar(NODE_ID):\n",
    "    sim_node_id, percentage = node\n",
    "    print(node2Text(int(sim_node_id)), percentage) "
   ]
  },
  {
   "cell_type": "code",
   "execution_count": null,
   "metadata": {},
   "outputs": [],
   "source": [
    "embedded_x = torch.tensor(embeddings.vectors, dtype=torch.float)"
   ]
  },
  {
   "cell_type": "code",
   "execution_count": null,
   "metadata": {},
   "outputs": [],
   "source": [
    "dataset.edge_index = torch.stack([row, col], dim=0)"
   ]
  },
  {
   "cell_type": "code",
   "execution_count": null,
   "metadata": {},
   "outputs": [],
   "source": [
    "data = GAE.split_edges(GAE, dataset)"
   ]
  },
  {
   "cell_type": "code",
   "execution_count": null,
   "metadata": {},
   "outputs": [],
   "source": [
    "l1 = data.test_pos_edge_index[0][0]\n",
    "l2 = data.test_pos_edge_index[1][0]"
   ]
  },
  {
   "cell_type": "code",
   "execution_count": null,
   "metadata": {},
   "outputs": [],
   "source": [
    "print(dataset.edge_index[0].tolist().index(l1))\n",
    "print(dataset.edge_index[1].tolist().index(l2))"
   ]
  },
  {
   "cell_type": "code",
   "execution_count": null,
   "metadata": {},
   "outputs": [],
   "source": [
    "dataset"
   ]
  },
  {
   "cell_type": "code",
   "execution_count": 27,
   "metadata": {},
   "outputs": [
    {
     "ename": "NameError",
     "evalue": "name 'y' is not defined",
     "output_type": "error",
     "traceback": [
      "\u001b[1;31m---------------------------------------------------------------------------\u001b[0m",
      "\u001b[1;31mNameError\u001b[0m                                 Traceback (most recent call last)",
      "\u001b[1;32m<ipython-input-27-1b862e394b4b>\u001b[0m in \u001b[0;36m<module>\u001b[1;34m\u001b[0m\n\u001b[1;32m----> 1\u001b[1;33m \u001b[0my\u001b[0m\u001b[1;33m[\u001b[0m\u001b[0mnp\u001b[0m\u001b[1;33m.\u001b[0m\u001b[0mwhere\u001b[0m\u001b[1;33m(\u001b[0m\u001b[0mdataset\u001b[0m\u001b[1;33m.\u001b[0m\u001b[0medge_index\u001b[0m\u001b[1;33m.\u001b[0m\u001b[0mT\u001b[0m \u001b[1;33m==\u001b[0m \u001b[0mtorch\u001b[0m\u001b[1;33m.\u001b[0m\u001b[0mtensor\u001b[0m\u001b[1;33m(\u001b[0m\u001b[1;33m[\u001b[0m\u001b[1;36m5217\u001b[0m\u001b[1;33m,\u001b[0m \u001b[1;36m10644\u001b[0m\u001b[1;33m]\u001b[0m\u001b[1;33m)\u001b[0m\u001b[1;33m)\u001b[0m\u001b[1;33m[\u001b[0m\u001b[1;36m0\u001b[0m\u001b[1;33m]\u001b[0m\u001b[1;33m]\u001b[0m\u001b[1;33m\u001b[0m\u001b[1;33m\u001b[0m\u001b[0m\n\u001b[0m",
      "\u001b[1;31mNameError\u001b[0m: name 'y' is not defined"
     ]
    }
   ],
   "source": [
    "y[np.where(dataset.edge_index.T == torch.tensor([5217, 10644]))[0]]"
   ]
  },
  {
   "cell_type": "code",
   "execution_count": 28,
   "metadata": {},
   "outputs": [
    {
     "name": "stdout",
     "output_type": "stream",
     "text": [
      "\tLoading FB15k training (valid file) data...\n"
     ]
    },
    {
     "ename": "NameError",
     "evalue": "name 'label_encode_dataset' is not defined",
     "output_type": "error",
     "traceback": [
      "\u001b[1;31m---------------------------------------------------------------------------\u001b[0m",
      "\u001b[1;31mNameError\u001b[0m                                 Traceback (most recent call last)",
      "\u001b[1;32m<ipython-input-28-42609ee015ea>\u001b[0m in \u001b[0;36m<module>\u001b[1;34m\u001b[0m\n\u001b[0;32m     10\u001b[0m \u001b[0mprint\u001b[0m\u001b[1;33m(\u001b[0m\u001b[1;34m'\\tLoading FB15k training (valid file) data...'\u001b[0m\u001b[1;33m)\u001b[0m\u001b[1;33m\u001b[0m\u001b[1;33m\u001b[0m\u001b[0m\n\u001b[0;32m     11\u001b[0m \u001b[1;33m\u001b[0m\u001b[0m\n\u001b[1;32m---> 12\u001b[1;33m \u001b[0mdataset\u001b[0m \u001b[1;33m=\u001b[0m \u001b[0mlabel_encode_dataset\u001b[0m\u001b[1;33m(\u001b[0m\u001b[0mentity\u001b[0m\u001b[1;33m,\u001b[0m \u001b[0mrelation\u001b[0m\u001b[1;33m,\u001b[0m \u001b[0mdata\u001b[0m\u001b[1;33m)\u001b[0m\u001b[1;33m\u001b[0m\u001b[1;33m\u001b[0m\u001b[0m\n\u001b[0m\u001b[0;32m     13\u001b[0m \u001b[1;33m\u001b[0m\u001b[0m\n\u001b[0;32m     14\u001b[0m \u001b[1;31m# create node embeddings if none exists\u001b[0m\u001b[1;33m\u001b[0m\u001b[1;33m\u001b[0m\u001b[1;33m\u001b[0m\u001b[0m\n",
      "\u001b[1;31mNameError\u001b[0m: name 'label_encode_dataset' is not defined"
     ]
    }
   ],
   "source": [
    "import math as m\n",
    "\n",
    "entity_id = pd.read_csv('./data/FB15k/entities.txt', sep='\\t', header=None, names=['entity', 'id'], engine='python')\n",
    "entity = entity_id['entity'].values\n",
    "\n",
    "relation_id = pd.read_csv('./data/FB15k/relations.txt', sep='\\t', header=None, names=['relation', 'id'], engine='python')\n",
    "relation = relation_id['relation'].values\n",
    "\n",
    "data = pd.read_csv('./data/FB15k/valid.txt', sep='\\t', header=None, names=['subject', 'object', 'relation'], engine='python')\n",
    "print('\\tLoading FB15k training (valid file) data...')\n",
    "\n",
    "dataset = label_encode_dataset(entity, relation, data)\n",
    "\n",
    "# create node embeddings if none exists\n",
    "if not os.path.exists(\"embeddings\"):\n",
    "    create_node_embedding(dataset)\n",
    "embedded_nodes =  KeyedVectors.load_word2vec_format('embeddings/node_embedding.kv')\n",
    "\n",
    "dataset.x = torch.tensor(embedded_nodes.vectors, dtype=torch.float)\n",
    "data = GAE.split_edges(GAE, dataset)"
   ]
  },
  {
   "cell_type": "code",
   "execution_count": null,
   "metadata": {},
   "outputs": [],
   "source": [
    "print(dataset)\n",
    "full_length = dataset.edge_index.shape[-1]\n",
    "train_index = torch.tensor(dataset.edge_index[:, 0:m.floor(full_length*0.7)], dtype=torch.long)\n",
    "train_attr_index = torch.tensor(dataset.edge_attr[0:m.floor(full_length*0.7)], dtype=torch.long)\n",
    "\n",
    "val_index = torch.tensor(dataset.edge_index[:, m.floor(full_length*0.7):m.floor(full_length*0.9)], dtype=torch.long)\n",
    "val_attr_index = torch.tensor(dataset.edge_attr[m.floor(full_length*0.7):m.floor(full_length*0.9)], dtype=torch.long)\n",
    "\n",
    "test_index = torch.tensor(dataset.edge_index[:, m.floor(full_length*0.9):], dtype=torch.long)\n",
    "test_attr_index = torch.tensor(dataset.edge_attr[m.floor(full_length*0.9):], dtype=torch.long)\n",
    "\n",
    "\n",
    "\n",
    "dataset.edge_index = torch.cat([train_index, val_index, test_index], dim=1)\n",
    "dataset.edge_attr = torch.cat([train_attr_index, val_attr_index, test_attr_index])\n",
    "\n",
    "dataset.edge_train_mask = torch.cat([torch.ones((train_index.size(-1))),\n",
    "                                  torch.zeros((val_index.size(-1))),\n",
    "                                  torch.zeros((test_index.size(-1)))], dim=0).byte()\n",
    "dataset.edge_val_mask = torch.cat([torch.zeros((train_index.size(-1))),\n",
    "                                torch.ones((val_index.size(-1))),\n",
    "                                torch.zeros((test_index.size(-1)))], dim=0).byte()\n",
    "dataset.edge_test_mask = torch.cat([torch.zeros((train_index.size(-1))),\n",
    "                                 torch.zeros((val_index.size(-1))),\n",
    "                                 torch.ones((test_index.size(-1)))], dim=0).byte()\n",
    "\n",
    "dataset.edge_train_attr_mask = torch.cat([torch.ones((train_attr_index.size(-1))),\n",
    "                                  torch.zeros((val_attr_index.size(-1))),\n",
    "                                  torch.zeros((test_attr_index.size(-1)))], dim=0).byte()\n",
    "dataset.edge_val_attr_mask = torch.cat([torch.zeros((train_attr_index.size(-1))),\n",
    "                                torch.ones((val_attr_index.size(-1))),\n",
    "                                torch.zeros((test_attr_index.size(-1)))], dim=0).byte()\n",
    "dataset.edge_test_attr_mask = torch.cat([torch.zeros((train_attr_index.size(-1))),\n",
    "                                 torch.zeros((val_attr_index.size(-1))),\n",
    "                                 torch.ones((test_attr_index.size(-1)))], dim=0).byte()\n",
    "\n",
    "dataset.edge_type = torch.zeros(((dataset.edge_index.size(-1)),)).long()\n",
    "\n",
    "dataset.batch = torch.zeros((1, dataset.num_nodes), dtype=torch.int64).view(-1)\n",
    "dataset.num_graphs = 1\n",
    "num_features = dataset.x.shape[-1] \n",
    "num_relations = max(np.unique(dataset.edge_attr)) + 1"
   ]
  },
  {
   "cell_type": "code",
   "execution_count": 29,
   "metadata": {},
   "outputs": [
    {
     "ename": "AttributeError",
     "evalue": "'DataFrame' object has no attribute 'val_pos_edge_index'",
     "output_type": "error",
     "traceback": [
      "\u001b[1;31m---------------------------------------------------------------------------\u001b[0m",
      "\u001b[1;31mAttributeError\u001b[0m                            Traceback (most recent call last)",
      "\u001b[1;32m<ipython-input-29-acd23f9ef62f>\u001b[0m in \u001b[0;36m<module>\u001b[1;34m\u001b[0m\n\u001b[1;32m----> 1\u001b[1;33m \u001b[0mnp\u001b[0m\u001b[1;33m.\u001b[0m\u001b[0mwhere\u001b[0m\u001b[1;33m(\u001b[0m\u001b[0mdataset\u001b[0m\u001b[1;33m.\u001b[0m\u001b[0medge_index\u001b[0m\u001b[1;33m.\u001b[0m\u001b[0mT\u001b[0m \u001b[1;33m==\u001b[0m \u001b[0mdata\u001b[0m\u001b[1;33m.\u001b[0m\u001b[0mval_pos_edge_index\u001b[0m\u001b[1;33m.\u001b[0m\u001b[0mT\u001b[0m\u001b[1;33m[\u001b[0m\u001b[1;36m0\u001b[0m\u001b[1;33m]\u001b[0m\u001b[1;33m)\u001b[0m\u001b[1;33m[\u001b[0m\u001b[1;36m0\u001b[0m\u001b[1;33m]\u001b[0m\u001b[1;33m\u001b[0m\u001b[1;33m\u001b[0m\u001b[0m\n\u001b[0m",
      "\u001b[1;32mc:\\users\\oddgu\\programmering\\multirelational-graphstar\\env\\lib\\site-packages\\pandas\\core\\generic.py\u001b[0m in \u001b[0;36m__getattr__\u001b[1;34m(self, name)\u001b[0m\n\u001b[0;32m   5065\u001b[0m             \u001b[1;32mif\u001b[0m \u001b[0mself\u001b[0m\u001b[1;33m.\u001b[0m\u001b[0m_info_axis\u001b[0m\u001b[1;33m.\u001b[0m\u001b[0m_can_hold_identifiers_and_holds_name\u001b[0m\u001b[1;33m(\u001b[0m\u001b[0mname\u001b[0m\u001b[1;33m)\u001b[0m\u001b[1;33m:\u001b[0m\u001b[1;33m\u001b[0m\u001b[1;33m\u001b[0m\u001b[0m\n\u001b[0;32m   5066\u001b[0m                 \u001b[1;32mreturn\u001b[0m \u001b[0mself\u001b[0m\u001b[1;33m[\u001b[0m\u001b[0mname\u001b[0m\u001b[1;33m]\u001b[0m\u001b[1;33m\u001b[0m\u001b[1;33m\u001b[0m\u001b[0m\n\u001b[1;32m-> 5067\u001b[1;33m             \u001b[1;32mreturn\u001b[0m \u001b[0mobject\u001b[0m\u001b[1;33m.\u001b[0m\u001b[0m__getattribute__\u001b[0m\u001b[1;33m(\u001b[0m\u001b[0mself\u001b[0m\u001b[1;33m,\u001b[0m \u001b[0mname\u001b[0m\u001b[1;33m)\u001b[0m\u001b[1;33m\u001b[0m\u001b[1;33m\u001b[0m\u001b[0m\n\u001b[0m\u001b[0;32m   5068\u001b[0m \u001b[1;33m\u001b[0m\u001b[0m\n\u001b[0;32m   5069\u001b[0m     \u001b[1;32mdef\u001b[0m \u001b[0m__setattr__\u001b[0m\u001b[1;33m(\u001b[0m\u001b[0mself\u001b[0m\u001b[1;33m,\u001b[0m \u001b[0mname\u001b[0m\u001b[1;33m,\u001b[0m \u001b[0mvalue\u001b[0m\u001b[1;33m)\u001b[0m\u001b[1;33m:\u001b[0m\u001b[1;33m\u001b[0m\u001b[1;33m\u001b[0m\u001b[0m\n",
      "\u001b[1;31mAttributeError\u001b[0m: 'DataFrame' object has no attribute 'val_pos_edge_index'"
     ]
    }
   ],
   "source": [
    "np.where(dataset.edge_index.T == data.val_pos_edge_index.T[0])[0]"
   ]
  },
  {
   "cell_type": "code",
   "execution_count": 30,
   "metadata": {},
   "outputs": [
    {
     "ename": "AttributeError",
     "evalue": "'Data' object has no attribute 'val_pos_edge_index'",
     "output_type": "error",
     "traceback": [
      "\u001b[1;31m---------------------------------------------------------------------------\u001b[0m",
      "\u001b[1;31mAttributeError\u001b[0m                            Traceback (most recent call last)",
      "\u001b[1;32m<ipython-input-30-96523fa0b15f>\u001b[0m in \u001b[0;36m<module>\u001b[1;34m\u001b[0m\n\u001b[1;32m----> 1\u001b[1;33m \u001b[0mpair\u001b[0m \u001b[1;33m=\u001b[0m \u001b[0mdataset\u001b[0m\u001b[1;33m.\u001b[0m\u001b[0mval_pos_edge_index\u001b[0m\u001b[1;33m.\u001b[0m\u001b[0mT\u001b[0m\u001b[1;33m[\u001b[0m\u001b[1;36m0\u001b[0m\u001b[1;33m]\u001b[0m\u001b[1;33m\u001b[0m\u001b[1;33m\u001b[0m\u001b[0m\n\u001b[0m\u001b[0;32m      2\u001b[0m \u001b[0mobj\u001b[0m \u001b[1;33m=\u001b[0m \u001b[0mpair\u001b[0m\u001b[1;33m[\u001b[0m\u001b[1;36m1\u001b[0m\u001b[1;33m]\u001b[0m\u001b[1;33m\u001b[0m\u001b[1;33m\u001b[0m\u001b[0m\n\u001b[0;32m      3\u001b[0m \u001b[0msub\u001b[0m \u001b[1;33m=\u001b[0m \u001b[0mpair\u001b[0m\u001b[1;33m[\u001b[0m\u001b[1;36m0\u001b[0m\u001b[1;33m]\u001b[0m\u001b[1;33m\u001b[0m\u001b[1;33m\u001b[0m\u001b[0m\n\u001b[0;32m      4\u001b[0m \u001b[0mrel\u001b[0m \u001b[1;33m=\u001b[0m \u001b[0mnp\u001b[0m\u001b[1;33m.\u001b[0m\u001b[0mwhere\u001b[0m\u001b[1;33m(\u001b[0m\u001b[0mdataset\u001b[0m\u001b[1;33m.\u001b[0m\u001b[0medge_index\u001b[0m\u001b[1;33m.\u001b[0m\u001b[0mT\u001b[0m \u001b[1;33m==\u001b[0m \u001b[0mdata\u001b[0m\u001b[1;33m.\u001b[0m\u001b[0mval_pos_edge_index\u001b[0m\u001b[1;33m.\u001b[0m\u001b[0mT\u001b[0m\u001b[1;33m[\u001b[0m\u001b[1;36m0\u001b[0m\u001b[1;33m]\u001b[0m\u001b[1;33m)\u001b[0m\u001b[1;33m[\u001b[0m\u001b[1;36m0\u001b[0m\u001b[1;33m]\u001b[0m\u001b[1;33m\u001b[0m\u001b[1;33m\u001b[0m\u001b[0m\n\u001b[0;32m      5\u001b[0m \u001b[0mprint\u001b[0m\u001b[1;33m(\u001b[0m\u001b[0mobj\u001b[0m\u001b[1;33m,\u001b[0m \u001b[0msub\u001b[0m\u001b[1;33m,\u001b[0m \u001b[0mrel\u001b[0m\u001b[1;33m)\u001b[0m\u001b[1;33m\u001b[0m\u001b[1;33m\u001b[0m\u001b[0m\n",
      "\u001b[1;31mAttributeError\u001b[0m: 'Data' object has no attribute 'val_pos_edge_index'"
     ]
    }
   ],
   "source": [
    "pair = dataset.val_pos_edge_index.T[0]\n",
    "obj = pair[1]\n",
    "sub = pair[0]\n",
    "rel = np.where(dataset.edge_index.T == data.val_pos_edge_index.T[0])[0]\n",
    "print(obj, sub, rel)"
   ]
  },
  {
   "cell_type": "code",
   "execution_count": 31,
   "metadata": {},
   "outputs": [
    {
     "ename": "NameError",
     "evalue": "name 'rdf2txt' is not defined",
     "output_type": "error",
     "traceback": [
      "\u001b[1;31m---------------------------------------------------------------------------\u001b[0m",
      "\u001b[1;31mNameError\u001b[0m                                 Traceback (most recent call last)",
      "\u001b[1;32m<ipython-input-31-5a208a4fb0ef>\u001b[0m in \u001b[0;36m<module>\u001b[1;34m\u001b[0m\n\u001b[1;32m----> 1\u001b[1;33m \u001b[0mrdf2txt\u001b[0m\u001b[1;33m(\u001b[0m\u001b[0mint\u001b[0m\u001b[1;33m(\u001b[0m\u001b[0msub\u001b[0m\u001b[1;33m)\u001b[0m\u001b[1;33m,\u001b[0m \u001b[0mint\u001b[0m\u001b[1;33m(\u001b[0m\u001b[0mobj\u001b[0m\u001b[1;33m)\u001b[0m\u001b[1;33m,\u001b[0m \u001b[0mint\u001b[0m\u001b[1;33m(\u001b[0m\u001b[0my\u001b[0m\u001b[1;33m[\u001b[0m\u001b[0mrel\u001b[0m\u001b[1;33m]\u001b[0m\u001b[1;33m)\u001b[0m\u001b[1;33m)\u001b[0m\u001b[1;33m\u001b[0m\u001b[1;33m\u001b[0m\u001b[0m\n\u001b[0m",
      "\u001b[1;31mNameError\u001b[0m: name 'rdf2txt' is not defined"
     ]
    }
   ],
   "source": [
    "rdf2txt(int(sub), int(obj), int(y[rel]))"
   ]
  },
  {
   "cell_type": "code",
   "execution_count": 32,
   "metadata": {},
   "outputs": [
    {
     "data": {
      "text/plain": [
       "tensor(100.)"
      ]
     },
     "execution_count": 32,
     "metadata": {},
     "output_type": "execute_result"
    }
   ],
   "source": [
    "dataset.edge_attr[4877]"
   ]
  },
  {
   "cell_type": "code",
   "execution_count": 33,
   "metadata": {},
   "outputs": [
    {
     "ename": "NameError",
     "evalue": "name 'rdf2txt' is not defined",
     "output_type": "error",
     "traceback": [
      "\u001b[1;31m---------------------------------------------------------------------------\u001b[0m",
      "\u001b[1;31mNameError\u001b[0m                                 Traceback (most recent call last)",
      "\u001b[1;32m<ipython-input-33-2faac8922053>\u001b[0m in \u001b[0;36m<module>\u001b[1;34m\u001b[0m\n\u001b[1;32m----> 1\u001b[1;33m \u001b[0mrdf2txt\u001b[0m\u001b[1;33m(\u001b[0m\u001b[1;36m8937\u001b[0m\u001b[1;33m,\u001b[0m \u001b[1;36m4141\u001b[0m\u001b[1;33m,\u001b[0m \u001b[1;36m341\u001b[0m\u001b[1;33m)\u001b[0m\u001b[1;33m\u001b[0m\u001b[1;33m\u001b[0m\u001b[0m\n\u001b[0m",
      "\u001b[1;31mNameError\u001b[0m: name 'rdf2txt' is not defined"
     ]
    }
   ],
   "source": [
    "rdf2txt(8937, 4141, 341)"
   ]
  },
  {
   "cell_type": "code",
   "execution_count": null,
   "metadata": {},
   "outputs": [],
   "source": [
    "from torch_geometric.utils import to_networkx\n",
    "from node2vec import Node2Vec\n",
    "import os\n",
    "\n",
    "def make_node_embeddings(dataset, path=\"embeddings\", node_embedding_name=\"node_embeddings\", embedding_model_name=\"node_embedding_model\", dimensions=16, walk_length=15, num_walks=20, workers=1, window=10, min_count=1, batch_words=4):\n",
    "    G = to_networkx(dataset)\n",
    "   \n",
    "    # Precompute probabilities and generate walks - **ON WINDOWS ONLY WORKS WITH workers=1**\n",
    "    node2vec = Node2Vec(G, dimensions=dimensions, walk_length=walk_length, num_walks=num_walks, workers=workers)  # Use temp_folder for big graphs\n",
    "    \n",
    "    # Embed nodes\n",
    "    model = node2vec.fit(window=window, min_count=min_count, batch_words=batch_words)  # Any keywords acceptable by gensim.Word2Vec can be passed, \n",
    "                                                                 # `dimensions` and `workers` are automatically passed\n",
    "                                                                 # (from the Node2Vec constructor)\n",
    "    \n",
    "    # Save embeddings for later use\n",
    "    if not os.path.exists(path):\n",
    "        os.mkdir(path)\n",
    "    model.wv.save_word2vec_format(os.path.join(path, node_embedding_name + \".kv\"))\n",
    "    model.save(os.path.join(path, embedding_model_name + \".pkl\"))\n",
    "    print(f\"Saved embedding and model in the {path} folder\")\n",
    "    return model.vw.vectors"
   ]
  },
  {
   "cell_type": "markdown",
   "metadata": {},
   "source": [
    "## Evaluating Graph Star Multi Relational"
   ]
  },
  {
   "cell_type": "code",
   "execution_count": 44,
   "metadata": {},
   "outputs": [],
   "source": [
    "import torch\n",
    "model = torch.load(\"output/idun.pkl\", map_location=torch.device('cpu'))"
   ]
  },
  {
   "cell_type": "code",
   "execution_count": 45,
   "metadata": {},
   "outputs": [
    {
     "data": {
      "text/plain": [
       "GraphStar(\n",
       "  (fl): Linear(in_features=16, out_features=256, bias=True)\n",
       "  (star_init): StarAttn(\n",
       "    (Wq): Linear(in_features=256, out_features=256, bias=True)\n",
       "    (Wk): Linear(in_features=256, out_features=256, bias=True)\n",
       "    (Wv): Linear(in_features=256, out_features=256, bias=True)\n",
       "    (sLayerNorm): LayerNorm((256,), eps=1e-05, elementwise_affine=True)\n",
       "  )\n",
       "  (conv_list): ModuleList(\n",
       "    (0): GraphStarConv(256, 256, heads=4)\n",
       "    (1): GraphStarConv(256, 256, heads=4)\n",
       "    (2): GraphStarConv(256, 256, heads=4)\n",
       "  )\n",
       "  (star_attn_list): ModuleList(\n",
       "    (0): StarAttn(\n",
       "      (Wq): Linear(in_features=256, out_features=256, bias=True)\n",
       "      (Wk): Linear(in_features=256, out_features=256, bias=True)\n",
       "      (Wv): Linear(in_features=256, out_features=256, bias=True)\n",
       "      (sLayerNorm): LayerNorm((256,), eps=1e-05, elementwise_affine=True)\n",
       "    )\n",
       "    (1): StarAttn(\n",
       "      (Wq): Linear(in_features=256, out_features=256, bias=True)\n",
       "      (Wk): Linear(in_features=256, out_features=256, bias=True)\n",
       "      (Wv): Linear(in_features=256, out_features=256, bias=True)\n",
       "      (sLayerNorm): LayerNorm((256,), eps=1e-05, elementwise_affine=True)\n",
       "    )\n",
       "    (2): StarAttn(\n",
       "      (Wq): Linear(in_features=256, out_features=256, bias=True)\n",
       "      (Wk): Linear(in_features=256, out_features=256, bias=True)\n",
       "      (Wv): Linear(in_features=256, out_features=256, bias=True)\n",
       "      (sLayerNorm): LayerNorm((256,), eps=1e-05, elementwise_affine=True)\n",
       "    )\n",
       "  )\n",
       "  (gcl1): Linear(in_features=512, out_features=256, bias=True)\n",
       "  (gcl2): Linear(in_features=256, out_features=128, bias=True)\n",
       "  (gcl3): Linear(in_features=128, out_features=0, bias=True)\n",
       "  (rl): Linear(in_features=1347, out_features=256, bias=True)\n",
       "  (LP_loss): BCEWithLogitsLoss()\n",
       ")"
      ]
     },
     "execution_count": 45,
     "metadata": {},
     "output_type": "execute_result"
    }
   ],
   "source": [
    "model"
   ]
  },
  {
   "cell_type": "code",
   "execution_count": 190,
   "metadata": {},
   "outputs": [],
   "source": [
    "# Read data and make dataframes\n",
    "name = ['entity', 'id']\n",
    "entity_id = pd.read_csv('./data/FB15k/entities.txt', sep='\\t', header=None, names=name, engine='python')\n",
    "all_entities = entity_id['entity'].values\n",
    "\n",
    "name = ['relation', 'id']\n",
    "relation_id = pd.read_csv('./data/FB15k/relations.txt', sep='\\t', header=None, names=name, engine='python')\n",
    "all_relations = relation_id['relation'].values\n",
    "\n",
    "# Read RDF Triples\n",
    "name = ['head', 'tail', 'relation']\n",
    "# concat all data \n",
    "train = pd.read_csv('./data/FB15k/train.txt', sep='\\t', header=None, names=name, engine='python')\n",
    "valid = pd.read_csv('./data/FB15k/valid.txt', sep='\\t', header=None, names=name, engine='python')\n",
    "test = pd.read_csv('./data/FB15k/test.txt', sep='\\t', header=None, names=name, engine='python')\n",
    "data = pd.concat([train, valid])\n",
    "data = pd.concat([data, test])"
   ]
  },
  {
   "cell_type": "code",
   "execution_count": 191,
   "metadata": {},
   "outputs": [],
   "source": [
    "head = data['head'].values\n",
    "tail = data['tail'].values\n",
    "relations = data['relation'].values\n",
    "\n",
    "# fit entity encoder\n",
    "le_entity = LabelEncoder()\n",
    "le_entity.fit(all_entities)\n",
    "\n",
    "# fit relationship encoder\n",
    "le_relation = LabelEncoder()\n",
    "le_relation.fit(all_relations.reshape(-1, 1))\n",
    "\n",
    "# string list to int array using LabelEncoder on complete data set\n",
    "heads = le_entity.transform(head)\n",
    "tails = le_entity.transform(tail)\n",
    "relations = le_relation.transform(relations)\n",
    "\n",
    "edge_attributes = torch.tensor(relations, dtype=torch.long)\n",
    "edge_index = torch.tensor([heads, tails], dtype=torch.long)\n",
    "unique_entities = torch.tensor(np.unique(edge_index.reshape(edge_index.shape[-1]*2, 1)), dtype=torch.float)\n",
    "\n",
    "dataset = Data(x=unique_entities, edge_type=edge_attributes, edge_index=edge_index)"
   ]
  },
  {
   "cell_type": "code",
   "execution_count": 195,
   "metadata": {},
   "outputs": [],
   "source": [
    "#!pip install sparqlwrapper\n",
    "# https://rdflib.github.io/sparqlwrapper/\n",
    "\n",
    "import sys\n",
    "from SPARQLWrapper import SPARQLWrapper, JSON\n",
    "\n",
    "def get_results(endpoint_url, query):\n",
    "    user_agent = \"WDQS-example Python/%s.%s\" % (sys.version_info[0], sys.version_info[1])\n",
    "    sparql = SPARQLWrapper(endpoint_url, agent=user_agent)\n",
    "    sparql.setQuery(query)\n",
    "    sparql.setReturnFormat(JSON)\n",
    "    return sparql.query().convert()\n",
    "\n",
    "\n",
    "def freebase_parser(freebase_id):\n",
    "    endpoint_url = \"https://query.wikidata.org/sparql\"\n",
    "\n",
    "    query = \\\n",
    "    '''SELECT ?sLabel WHERE { \n",
    "        ?s wdt:P646 \"''' + freebase_id + '''\".\n",
    "        SERVICE wikibase:label { bd:serviceParam wikibase:language \"en\". }\n",
    "    }\n",
    "    LIMIT 1'''\n",
    "    res = get_results(endpoint_url, query)\n",
    "    if len(res['results']['bindings']) == 0:\n",
    "        return \"No result\"\n",
    "    else:\n",
    "        return get_results(endpoint_url, query)['results']['bindings'][0]['sLabel']['value']\n",
    "    \n",
    "    \n",
    "def inverse_transform(head, tail, rel):\n",
    "    head = le_entity.inverse_transform([head])\n",
    "    tail = le_entity.inverse_transform([tail])\n",
    "    rel = le_relation.inverse_transform([rel])\n",
    "    return head[0], tail[0], rel[0]\n",
    "\n",
    "\n",
    "def rdf2txt(head, tail, rel):\n",
    "    head, tail, rel = inverse_transform(head, tail, rel)\n",
    "    head = freebase_parser(head)\n",
    "    tail = freebase_parser(tail)\n",
    "    return head, tail, str(rel)"
   ]
  },
  {
   "cell_type": "code",
   "execution_count": 200,
   "metadata": {},
   "outputs": [],
   "source": [
    "# Logits embedding [13292, 256] -> [unique nodes x hidden layer]\n",
    "index = 136\n",
    "z = model.z\n",
    "# Edge index between 2 nodes\n",
    "edge_index = dataset.edge_index.T[index].T\n",
    "# relation type\n",
    "edge_type = dataset.edge_type[index]"
   ]
  },
  {
   "cell_type": "code",
   "execution_count": 201,
   "metadata": {},
   "outputs": [
    {
     "data": {
      "text/plain": [
       "('Kaneto Shiozawa', 'Japan', '/people/person/nationality')"
      ]
     },
     "execution_count": 201,
     "metadata": {},
     "output_type": "execute_result"
    }
   ],
   "source": [
    "rdf2txt(edge_index[0], edge_index[1], edge_type)"
   ]
  },
  {
   "cell_type": "code",
   "execution_count": 202,
   "metadata": {},
   "outputs": [],
   "source": [
    "z2 = torch.sigmoid(z)"
   ]
  },
  {
   "cell_type": "code",
   "execution_count": 203,
   "metadata": {},
   "outputs": [],
   "source": [
    "head = z2[edge_index[0]]\n",
    "relation =  model.RW[edge_type]\n",
    "tail = z2"
   ]
  },
  {
   "cell_type": "code",
   "execution_count": 204,
   "metadata": {},
   "outputs": [],
   "source": [
    "# SCORING FUNCTION\n",
    "p = head*relation*tail\n",
    "score = torch.sigmoid(p.sum(dim=-1))"
   ]
  },
  {
   "cell_type": "code",
   "execution_count": 205,
   "metadata": {},
   "outputs": [],
   "source": [
    "pred = score.detach().numpy().argsort()[-10:][::-1]"
   ]
  },
  {
   "cell_type": "code",
   "execution_count": 219,
   "metadata": {},
   "outputs": [],
   "source": [
    "def pred(head=True, index=0, sig=True, emb_sig=True):\n",
    "    emb = z\n",
    "    if emb_sig:\n",
    "        emb = z2\n",
    "    edge_index = dataset.edge_index.T[index].T\n",
    "    edge_type = dataset.edge_type[index]\n",
    "    \n",
    "    h, t, r = rdf2txt(edge_index[0], edge_index[1], edge_type)\n",
    "    relation =  model.RW[edge_type]\n",
    "    if head:\n",
    "        out_text = \"predicted heads:\"\n",
    "        head = emb\n",
    "        tail = emb[edge_index[1]]\n",
    "    else:\n",
    "        out_text = \"predicted tails:\"\n",
    "        head = emb[edge_index[0]]\n",
    "        tail = emb\n",
    "\n",
    "    p = head*relation*tail\n",
    "    score = p.sum(dim=-1)\n",
    "    if sig:\n",
    "        score = torch.sigmoid(score)\n",
    "    \n",
    "    pred = score.detach().numpy().argsort()[-10:][::-1]\n",
    "    \n",
    "    print(f\"Original h:{h}, r: {r}, t:{t}\")\n",
    "    print(\"predicted t:\")\n",
    "    for l in pred:\n",
    "        h, t, r = rdf2txt(edge_index[0], l, edge_type)\n",
    "        print (t)\n"
   ]
  },
  {
   "cell_type": "code",
   "execution_count": 278,
   "metadata": {},
   "outputs": [],
   "source": [
    "b = z[edge_index[0]] * model.RW[edge_type] * z[edge_index[1]]"
   ]
  },
  {
   "cell_type": "code",
   "execution_count": 279,
   "metadata": {},
   "outputs": [
    {
     "data": {
      "text/plain": [
       "tensor(-0.5518, grad_fn=<SumBackward0>)"
      ]
     },
     "execution_count": 279,
     "metadata": {},
     "output_type": "execute_result"
    }
   ],
   "source": [
    "b.sum()"
   ]
  },
  {
   "cell_type": "markdown",
   "metadata": {},
   "source": [
    "Bra id:\n",
    "*  355"
   ]
  },
  {
   "cell_type": "code",
   "execution_count": 276,
   "metadata": {},
   "outputs": [
    {
     "name": "stdout",
     "output_type": "stream",
     "text": [
      "Original h:Jack Bruce, r: /music/artist/genre, t:hard rock\n",
      "predicted t:\n",
      "Gwar\n",
      "Chris Thomas King\n",
      "Gene Simmons\n",
      "Josh Homme\n",
      "Mark Knopfler\n",
      "Muse\n",
      "Demi Lovato\n",
      "MGMT\n",
      "Glenn Frey\n",
      "Gustavo Cerati\n"
     ]
    }
   ],
   "source": [
    "pred(head=True, index=355, sig=True, emb_sig=False)"
   ]
  },
  {
   "cell_type": "code",
   "execution_count": 187,
   "metadata": {},
   "outputs": [
    {
     "name": "stdout",
     "output_type": "stream",
     "text": [
      "Original h:Kaneto Shiozawa, r: /people/profession/people_with_this_profession, t:voice actor\n",
      "predicted t:\n",
      "forward\n",
      "actor\n",
      "screenwriter\n",
      "United States of America\n",
      "visual effects supervisor\n",
      "executive producer\n",
      "Academy Award for Best Picture\n",
      "No result\n",
      "television producer\n",
      "make-up artist\n"
     ]
    }
   ],
   "source": [
    "# Logits embedding [13292, 256] -> [unique nodes x hidden layer]\n",
    "index = 129\n",
    "z = model.z\n",
    "# Edge index between 2 nodes\n",
    "edge_index = dataset.edge_index.T[index].T\n",
    "# relation type\n",
    "edge_type = dataset.edge_type[index]\n",
    "h, t, r = rdf2txt(edge_index[0], edge_index[1], edge_type)\n",
    "head = z2[edge_index[0]]\n",
    "relation =  model.RW[edge_type]\n",
    "tail = z2\n",
    "# SCORING FUNCTION\n",
    "p = head*relation*tail\n",
    "score = torch.sigmoid(p.sum(dim=-1))\n",
    "pred = score.detach().numpy().argsort()[-10:][::-1]\n",
    "print(f\"Original h:{h}, r: {r}, t:{t}\")\n",
    "print(\"predicted t:\")\n",
    "for l in pred:\n",
    "    h, t, r = rdf2txt(edge_index[0], l, edge_type)\n",
    "    print (t)\n",
    "# Recall precision on top 10."
   ]
  },
  {
   "cell_type": "code",
   "execution_count": 183,
   "metadata": {},
   "outputs": [],
   "source": [
    "# Logits embedding [13292, 256] -> [unique nodes x hidden layer]\n",
    "z = model.z\n",
    "\n",
    "def experiment(index=0):\n",
    "    \n",
    "    # Edge index between 2 nodes\n",
    "    edge_index = dataset.edge_index.T[index].T\n",
    "    # relation type\n",
    "    edge_type = dataset.edge_type[index]\n",
    "    \n",
    "    h, t, r = rdf2txt(edge_index[0], edge_index[1], edge_type)\n",
    "    print(f\" \\\n",
    "        Original data: \\n \\\n",
    "        Head: {h} \\n \\\n",
    "        Relation: {r} \\n \\\n",
    "        Tail: {t} \\n\")\n",
    "    \n",
    "    head = z[edge_index[0]]\n",
    "    relation =  model.RW[edge_type]\n",
    "    tail = z\n",
    "    p = head * relation * tail\n",
    "    pred = int(round(np.argmax(p.detach().numpy())/256))\n",
    "    \n",
    "    h, t, r = rdf2txt(edge_index[0], pred, edge_type)\n",
    "    print(f\" \\\n",
    "        Predicted data: \\n \\\n",
    "        Head: {h} \\n \\\n",
    "        Relation: {r} \\n \\\n",
    "        Tail: {t} \\n\")"
   ]
  },
  {
   "cell_type": "code",
   "execution_count": 117,
   "metadata": {},
   "outputs": [
    {
     "name": "stdout",
     "output_type": "stream",
     "text": [
      "         Original data: \n",
      "         Head: Werner Herzog \n",
      "         Relation: /people/person/profession \n",
      "         Tail: film producer \n",
      "\n",
      "         Predicted data: \n",
      "         Head: Werner Herzog \n",
      "         Relation: /people/person/profession \n",
      "         Tail: Julie Delpy \n",
      "\n"
     ]
    }
   ],
   "source": [
    "experiment(2859)"
   ]
  },
  {
   "cell_type": "code",
   "execution_count": null,
   "metadata": {},
   "outputs": [],
   "source": [
    "head = z[edge_index[0]]\n",
    "relation =  model.RW[edge_type]\n",
    "tail = z[edge_index[1]]\n",
    "p = head * relation * tail"
   ]
  },
  {
   "cell_type": "code",
   "execution_count": null,
   "metadata": {},
   "outputs": [],
   "source": [
    "p.sum()"
   ]
  },
  {
   "cell_type": "markdown",
   "metadata": {},
   "source": [
    "## How to evaluate\n",
    "All should use top 10 / 5 / 1\n",
    "*  Zero - One f0-score (does it predict correctly or not)\n",
    "*  Hierachical correctness (How far up the relationtree ? Does it get film/film or film/film/other_crew)\n",
    "*  Top-K hits (Is the correct in label in top-K in predictions) (precision, recall, f0)\n",
    "*  Split relationship and regex in pred relations (finding related relations)\n",
    "\n",
    "Need to explain hierachical layout of freebase!\n"
   ]
  },
  {
   "cell_type": "markdown",
   "metadata": {},
   "source": [
    "## 2 THE LINK PREDICTION PROBLEM\n",
    "This section provides a detailed outline for the LP task in the context of KGs, introducing key concepts that we are\n",
    "going to refer to in our work.\n",
    "\n",
    "\n",
    "  We define a KG as a labeled, directed multi-graph KG = (E, R, G):\n",
    "* E: a set of nodes representing entities;\n",
    "* R: a set of labels representing relations;\n",
    "* G ⊆ E × R × E: a set of edges representing _facts_ connecting pairs of entities. Each fact is a triple _⟨h, r, t⟩_, where\n",
    "_h_ is the head, _r_ is the relation, and _t_ is the tail of the fact."
   ]
  },
  {
   "cell_type": "code",
   "execution_count": null,
   "metadata": {},
   "outputs": [],
   "source": [
    "# Logits embedding [13292, 256] -> [unique nodes x hidden layer]\n",
    "z = model.z\n",
    "# Edge index between 2 nodes\n",
    "edge_index = dataset.edge_index.T[5].T\n",
    "# relation type\n",
    "edge_type = dataset.edge_type[5]\n",
    "rdf2txt(edge_index[0], edge_index[1], edge_type)"
   ]
  },
  {
   "cell_type": "markdown",
   "metadata": {},
   "source": [
    "**Link Prediction** (LP) is the task of exploiting the existing facts in a KG to infer missing ones. This amounts to\n",
    "guessing the correct entity that completes _⟨h, r, ?⟩_ (tail prediction) or _⟨?, r, t⟩_ (head prediction). For the sake of simplicity, when talking about head and tail prediction globally, we call _source_ entity the known entity in the prediction, and _target_ entity the one to predict.\n",
    "\n",
    "\n",
    "In the following we use _italic_ letters to identify KG elements (entities or relations), and **bold** letters to identify the\n",
    "corresponding embeddings. Given for instance a generic entity, we may use _e_ when referring to its element in the\n",
    "graph, and **e** when referring to its embedding.\n",
    "\n",
    "\n",
    "Datasets employed in LP research are typically obtained subsampling real-world KGs; each dataset can therefore be\n",
    "seen as a small KG with its own sets of entities E, relations R and facts G. In order to facilitate research, G is further\n",
    "split into three disjoint subsets: a training set G_train, a validation set G_valid and a test set G_test.\n",
    "\n",
    "\n",
    "Most of LP models based on embeddings define a scoring function ϕ to estimate the plausibility of any fact _⟨h, r, t⟩_\n",
    "using their embeddings:\n",
    "\n",
    "\n",
    "> ϕ(**h** ,**r**, **t**)\n",
    "\n",
    "\n",
    "In this paper, unless differently specified, we are going to assume that the higher the score of ϕ, the more plausible the\n",
    "fact.\n",
    "\n",
    "\n",
    "During training, embeddings are usually initialized randomly and subsequently improved with optimization algorithms such as back-propagation with gradient descent. The positive samples in G_train are often randomly corrupted\n",
    "in order to generate negative samples. The optimization process aims at maximizing the plausibility of positive facts as\n",
    "well as minimizing the plausibility of negative facts; this often amounts to employing a **triplet loss** function. Over time,\n",
    "more effective ways to generate negative triples have been proposed, such as sampling from a Bernouilli distribution [66] or generating them with adversarial algorithms [55]. In addition to the embeddings of KG elements, models may also\n",
    "use the same optimization algorithms to learn additional parameters (e.g. the weights of neural layers). Such parameters,\n",
    "if present, are employed in the scoring function ϕ to process the actual embeddings of entities and relations. Since they\n",
    "are not specific to any KG element, they are often dubbed _shared parameters_.\n",
    "\n",
    "\n",
    "In prediction phase, given an incomplete triple _⟨h, r, ?⟩_, the missing tail is inferred as the entity that, completing the\n",
    "triple, results in the highest score:\n",
    "> t = argmax_(e∈E) ϕ(**h**, **r**, **e**)\n",
    "\n",
    "Head prediction is performed analogously.\n",
    "\n",
    "Evaluation is carried out by performing both head and tail prediction on all test triples in G_test , and computing for\n",
    "each prediction how the target entity ranks against all the other ones. Ideally, the target entity should yield the highest\n",
    "plausibility.\n",
    "\n",
    "Ranks can be computed in two largely different settings, called raw and filtered scenarios. As a matter of fact, a prediction may have multiple valid answers: for instance, when predicting the tail for _⟨ Barack Obama, parent, Natasha Obama ⟩_,\n",
    "a model may associate a higher score to _Malia Obama_ than to _Natasha Obama_. More generally, if the predicted fact is\n",
    "contained in G (that is, either in G_train, or in G_valid or in G_test ), the answer is valid. Depending on whether valid\n",
    "answers should be considered acceptable or not, two separate settings have been devised:\n",
    "\n",
    "*  _Raw Scenario_: in this scenario, valid entities outscoring the target one are considered as mistakes. Therefore\n",
    "they do contribute to the rank computation. Given a test fact ⟨h, r, t⟩ ∈ Gtest , the raw rank r_t of the target\n",
    "tail _t_ is computed as:\n",
    "\n",
    "> _r_t = |{e ∈ E \\ {t } : ϕ(h, r, e) > ϕ(h, r,t)}|_ + 1\n",
    "\n",
    "The raw rank in head prediction can be computed analogously.\n",
    "\n",
    "*  _Filtered Scenario_: in this scenario, valid entities outscoring the target one are not considered mistakes. Therefore\n",
    "they are skipped when computing the rank. Given a test fact _⟨h, r, t⟩ ∈ G_test_ , the filtered rank r_t of the target\n",
    "tail t is computed as:\n",
    "\n",
    "> _r_t = |{e ∈ E \\ {t } : ϕ(h, r, e) > ϕ(h, r,t) ∧ h h, r, e i < G}|_ + 1\n",
    "\n",
    "The filtered rank in head prediction can be computed analogously.\n",
    "\n",
    "\n",
    "In order to compute the rank it is also necessary to define the policy to apply when the target entity obtains the\n",
    "same score as other ones. This event is called a _tie_ and it can be handled with different policies:\n",
    "\n",
    "* _min_: the target is given the lowest rank among the entities in tie. This is the most permissive policy, and it may\n",
    "result in artificially boosting performances: as an extreme example, a model systematically setting the same\n",
    "score to all entities would obtain perfect results under this policy.\n",
    "*  _average_: the target is given the average rank among the entities in tie.\n",
    "*  _random_: the target is given a random rank among the entities in tie. On large test sets, this policy should\n",
    "globally amount to the average policy.\n",
    "*  _ordinal_: the entities in tie are given ranks based on the order in which they have been passed to the model.\n",
    "This usually depends on the internal identifiers of entities, which are independent from their scores: therefore\n",
    "this policy should globally correspond to the random policy.\n",
    "*  _max_: the target is given the highest (worst) rank among the entities in tie. This is the most strict policy.\n",
    "\n",
    "The ranks Q obtained from test predictions are usually employed to compute standard global metrics. The most\n",
    "commonly employed metrics in LP are:\n",
    "> _Mean Rank_ (MR). It is the average of the obtained ranks:\n",
    "\n",
    "\\begin{equation*}\n",
    "MR = \\frac{1}{|Q|} \\sum_{q\\in Q} q\n",
    "\\end{equation*}\n",
    "\n",
    "It is always between 1 and |E|, and the lower it is, the better the model results. It is very sensitive to outliers, therefore\n",
    "researchers lately have started avoiding it, resorting to Mean Reciprocal Rank instead.\n",
    "\n",
    "_Mean Reciprocal Rank_ (MRR). It is the average of the inverse of the obtained ranks:\n",
    "\n",
    "\\begin{equation*}\n",
    "MRR = \\frac{1}{|Q|} \\sum_{q\\in Q} \\frac{1}{q}\n",
    "\\end{equation*}\n",
    "\n",
    "It is always between 0 and 1, and the higher it is, the beer the model results.\n",
    "\n",
    "\n",
    "> _Hits@K_ (H@K). It is the ratio of predictions for which the rank is equal or lesser than a threshold _K_:\n",
    "\n",
    "\\begin{equation*}\n",
    "H@K = \\frac{|\\{q ∈ Q : q ≤ K\\}|}{|Q|}\n",
    "\\end{equation*}\n",
    "\n",
    "Common values for K are 1, 3, 5, 10. The higher the H@K, the better the model results. In particular, when K = 1, it\n",
    "measures the ratio of the test facts in which the target was predicted correctly on the first try. H@1 and MRR are often\n",
    "closely related, because these predictions also correspond to the most relevant addends to the MRR formula.\n",
    "\n",
    "\n",
    "These metrics can be computed either separately for subsets of predictions (e.g. considering separately head and tail\n",
    "predictions) or considering all test predictions altogether."
   ]
  },
  {
   "cell_type": "code",
   "execution_count": null,
   "metadata": {},
   "outputs": [],
   "source": [
    "def distMult(h,r,t):\n",
    "    return h*r*t\n"
   ]
  },
  {
   "cell_type": "code",
   "execution_count": null,
   "metadata": {},
   "outputs": [],
   "source": [
    " def lp_log(self, z, pos_edge_index, pos_edge_type, known_edge_index, known_edge_type):\n",
    "        dt, dev = pos_edge_index.dtype, pos_edge_index.device\n",
    "        ranks = []\n",
    "\n",
    "        # head batch\n",
    "        for i in range(len(pos_edge_type)):\n",
    "            pei = torch.stack([torch.arange(0, z.size(0), dtype=dt, device=dev),\n",
    "                               torch.full((z.size(0),), pos_edge_index[1][i], dtype=dt, device=dev)], dim=0)\n",
    "            pet = torch.full((z.size(0),), pos_edge_type[i], dtype=dt, device=dev)\n",
    "            pred = distMult(z, pei, pet)\n",
    "            rank = (pred >= pred[pos_edge_index[0][i]]).sum().item()\n",
    "\n",
    "            # filter\n",
    "            filter_idx = (\\\n",
    "                (known_edge_index[1] == pos_edge_index[1][i]) * (known_edge_type == pos_edge_type[i])\\\n",
    "            ).nonzero().view(-1)\n",
    "            \n",
    "            filter_idx = known_edge_index[0][filter_idx]\n",
    "            rank -= (pred[filter_idx] >= pred[pos_edge_index[0][i]]).sum().item()\n",
    "            rank += 1\n",
    "            ranks.append(rank)\n",
    "\n",
    "        # tail batch\n",
    "        for i in range(len(pos_edge_type)):\n",
    "            pei = torch.stack([torch.full((z.size(0),), pos_edge_index[0][i], dtype=dt, device=dev),\n",
    "                               torch.arange(0, z.size(0), dtype=dt, device=dev)], dim=0)\n",
    "            pet = torch.full((z.size(0),), pos_edge_type[i], dtype=dt, device=dev)\n",
    "            pred = self.lp_score(z, pei, pet)\n",
    "\n",
    "            rank = (pred >= pred[pos_edge_index[1][i]]).sum().item()\n",
    "\n",
    "            # filter\n",
    "            filter_idx = ((known_edge_index[0] == pos_edge_index[0][i]) * (\n",
    "                    known_edge_type == pos_edge_type[i])).nonzero().view(-1)\n",
    "            filter_idx = known_edge_index[1][filter_idx]\n",
    "            rank -= (pred[filter_idx] >= pred[pos_edge_index[1][i]]).sum().item()\n",
    "            rank += 1\n",
    "            ranks.append(rank)\n",
    "        ranks = np.array(ranks)\n",
    "\n",
    "        print(\"MRR: %f, MR: %f, HIT@1: %f, HIT@3: %f, HIT@10: %f\" % (\n",
    "            (1 / ranks).sum() / len(ranks),\n",
    "            (ranks).sum() / len(ranks),\n",
    "            (ranks <= 1).sum() / len(ranks),\n",
    "            (ranks <= 3).sum() / len(ranks),\n",
    "            (ranks <= 10).sum() / len(ranks)\n",
    "        ))"
   ]
  },
  {
   "cell_type": "code",
   "execution_count": null,
   "metadata": {},
   "outputs": [],
   "source": [
    "type(dataset.edge_index)"
   ]
  },
  {
   "cell_type": "code",
   "execution_count": null,
   "metadata": {},
   "outputs": [],
   "source": [
    "dataset.edge_type[12566]"
   ]
  },
  {
   "cell_type": "code",
   "execution_count": null,
   "metadata": {},
   "outputs": [],
   "source": [
    "def shuffle_dataset(dataset):\n",
    "    df = pd.DataFrame([dataset.edge_index[0], dataset.edge_index[1], dataset.edge_type]).T\n",
    "    df = df.sample(frac=1)\n",
    "    edge_attributes = torch.tensor(list(df[2].values), dtype=torch.float)\n",
    "    edge_index = torch.tensor([list(df[0].values), list(df[1].values)], dtype=torch.long)\n",
    "    dataset.edge_type = edge_attributes\n",
    "    dataset.edge_index = edge_index \n",
    "    return dataset"
   ]
  },
  {
   "cell_type": "code",
   "execution_count": null,
   "metadata": {},
   "outputs": [],
   "source": [
    "k = pd.DataFrame([dataset.edge_index[0], dataset.edge_index[1], dataset.edge_type]).T"
   ]
  },
  {
   "cell_type": "code",
   "execution_count": null,
   "metadata": {},
   "outputs": [],
   "source": [
    "torch.Tensor(list(k[0].values))"
   ]
  },
  {
   "cell_type": "code",
   "execution_count": null,
   "metadata": {},
   "outputs": [],
   "source": [
    "edge_attributes = torch.tensor(list(k[2].values), dtype=torch.float)\n",
    "edge_index = torch.tensor([list(k[0].values), list(k[1].values)], dtype=torch.long)"
   ]
  },
  {
   "cell_type": "code",
   "execution_count": null,
   "metadata": {},
   "outputs": [],
   "source": [
    "shuffle_dataset(dataset)"
   ]
  },
  {
   "cell_type": "code",
   "execution_count": null,
   "metadata": {},
   "outputs": [],
   "source": [
    "dataset.edge_type[12566]"
   ]
  },
  {
   "cell_type": "code",
   "execution_count": null,
   "metadata": {},
   "outputs": [],
   "source": []
  },
  {
   "cell_type": "code",
   "execution_count": null,
   "metadata": {},
   "outputs": [],
   "source": []
  },
  {
   "cell_type": "code",
   "execution_count": null,
   "metadata": {},
   "outputs": [],
   "source": [
    "def train_val_test_split(dataset):\n",
    "    train_size = int(np.floor(dataset.num_nodes*0.7))\n",
    "    valid_size = int(np.floor(dataset.num_nodes*0.9))\n",
    "    # edge_indexes\n",
    "    dataset.train_pos_edge_index = dataset.edge_index.T[0:train_size].T\n",
    "    dataset.val_pos_edge_index = dataset.edge_index.T[train_size : valid_size].T\n",
    "    dataset.test_pos_edge_index = dataset.edge_index.T[valid_size:].T\n",
    "    \n",
    "   # relations\n",
    "    dataset.train_edge_type = dataset.edge_type[0:train_size]\n",
    "    dataset.val_edge_type = dataset.edge_type[train_size : valid_size]\n",
    "    dataset.test_edge_type = dataset.edge_type[valid_size:]\n",
    "    \n",
    "    return dataset"
   ]
  },
  {
   "cell_type": "code",
   "execution_count": null,
   "metadata": {},
   "outputs": [],
   "source": [
    "dataset = train_val_test_split(dataset)"
   ]
  },
  {
   "cell_type": "code",
   "execution_count": null,
   "metadata": {},
   "outputs": [],
   "source": [
    "dataset"
   ]
  },
  {
   "cell_type": "code",
   "execution_count": null,
   "metadata": {},
   "outputs": [],
   "source": [
    "getattr(dataset, 'val_edge_type')"
   ]
  },
  {
   "cell_type": "code",
   "execution_count": null,
   "metadata": {},
   "outputs": [],
   "source": [
    "def negative_sampling(edge_index, num_nodes=None, num_neg_samples=None):\n",
    "    r\"\"\"Samples random negative edges of a graph given by :attr:`edge_index`.\n",
    "\n",
    "    Args:\n",
    "        edge_index (LongTensor): The edge indices.\n",
    "        num_nodes (int, optional): The number of nodes, *i.e.*\n",
    "            :obj:`max_val + 1` of :attr:`edge_index`. (default: :obj:`None`)\n",
    "        num_neg_samples (int, optional): The number of negative samples to\n",
    "            return. If set to :obj:`None`, will try to return a negative edge\n",
    "            for every positive edge. (default: :obj:`None`)\n",
    "\n",
    "    :rtype: LongTensor\n",
    "    \"\"\"\n",
    "\n",
    "    num_nodes = maybe_num_nodes(edge_index, num_nodes)\n",
    "    num_neg_samples = num_neg_samples or edge_index.size(1)\n",
    "\n",
    "    # Handle '2*|edges| > num_nodes^2' case.\n",
    "    num_neg_samples = min(num_neg_samples,\n",
    "                          num_nodes * num_nodes - edge_index.size(1))\n",
    "\n",
    "    idx = (edge_index[0] * num_nodes + edge_index[1]).to('cpu')\n",
    "\n",
    "    rng = range(num_nodes**2)\n",
    "    perm = torch.tensor(random.sample(rng, num_neg_samples))\n",
    "    mask = torch.from_numpy(np.isin(perm, idx)).to(torch.bool)\n",
    "    rest = mask.nonzero().view(-1)\n",
    "    while rest.numel() > 0:  # pragma: no cover\n",
    "        tmp = torch.tensor(random.sample(rng, rest.size(0)))\n",
    "        mask = torch.from_numpy(np.isin(tmp, idx)).to(torch.bool)\n",
    "        perm[rest] = tmp\n",
    "        rest = rest[mask.nonzero().view(-1)]\n",
    "\n",
    "    row, col = perm / num_nodes, perm % num_nodes\n",
    "    return torch.stack([row, col], dim=0).long().to(edge_index.device)"
   ]
  },
  {
   "cell_type": "code",
   "execution_count": null,
   "metadata": {},
   "outputs": [],
   "source": [
    "from torch_geometric.utils import structured_negative_sampling\n",
    "\n",
    "out = structured_negative_sampling(dataset.val_pos_edge_index)"
   ]
  },
  {
   "cell_type": "code",
   "execution_count": null,
   "metadata": {},
   "outputs": [],
   "source": [
    "torch.tensor([list(out[0]), list(out[2])], dtype=torch.long)\n"
   ]
  },
  {
   "cell_type": "code",
   "execution_count": null,
   "metadata": {},
   "outputs": [],
   "source": [
    "mode = \"train\"\n",
    "cal_mrr_score = True"
   ]
  },
  {
   "cell_type": "code",
   "execution_count": null,
   "metadata": {},
   "outputs": [],
   "source": [
    "if (mode != \"train\") and cal_mrr_score:\n",
    "    print(\"hey\")"
   ]
  },
  {
   "cell_type": "code",
   "execution_count": null,
   "metadata": {},
   "outputs": [],
   "source": []
  }
 ],
 "metadata": {
  "kernelspec": {
   "display_name": "Python 3",
   "language": "python",
   "name": "python3"
  },
  "language_info": {
   "codemirror_mode": {
    "name": "ipython",
    "version": 3
   },
   "file_extension": ".py",
   "mimetype": "text/x-python",
   "name": "python",
   "nbconvert_exporter": "python",
   "pygments_lexer": "ipython3",
   "version": "3.7.5"
  }
 },
 "nbformat": 4,
 "nbformat_minor": 4
}
